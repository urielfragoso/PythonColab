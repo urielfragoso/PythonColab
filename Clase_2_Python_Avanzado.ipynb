{
  "nbformat": 4,
  "nbformat_minor": 0,
  "metadata": {
    "colab": {
      "provenance": [],
      "authorship_tag": "ABX9TyM3KIJPy0e6u69ut1AP0mUf",
      "include_colab_link": true
    },
    "kernelspec": {
      "name": "python3",
      "display_name": "Python 3"
    },
    "language_info": {
      "name": "python"
    }
  },
  "cells": [
    {
      "cell_type": "markdown",
      "metadata": {
        "id": "view-in-github",
        "colab_type": "text"
      },
      "source": [
        "<a href=\"https://colab.research.google.com/github/urielfragoso/PythonColab/blob/main/Clase_2_Python_Avanzado.ipynb\" target=\"_parent\"><img src=\"https://colab.research.google.com/assets/colab-badge.svg\" alt=\"Open In Colab\"/></a>"
      ]
    },
    {
      "cell_type": "markdown",
      "source": [],
      "metadata": {
        "id": "gucaB_shUWLl"
      }
    },
    {
      "cell_type": "markdown",
      "source": [
        "## clase 2\n",
        "### Temas:  Loops, instalacion de python --> repaso basico de python"
      ],
      "metadata": {
        "id": "YVFidIbZ-iLY"
      }
    },
    {
      "cell_type": "code",
      "execution_count": 2,
      "metadata": {
        "colab": {
          "base_uri": "https://localhost:8080/"
        },
        "id": "LSoWKHVG-ZV-",
        "outputId": "851fc5eb-5ae6-4f7b-c352-e8b317b42996"
      },
      "outputs": [
        {
          "output_type": "execute_result",
          "data": {
            "text/plain": [
              "['manzana', 'pera', 'durazno', 'melon']"
            ]
          },
          "metadata": {},
          "execution_count": 2
        }
      ],
      "source": [
        "lista_1 = ['manzana','pera','durazno','melon']\n",
        "lista_1"
      ]
    },
    {
      "cell_type": "code",
      "source": [
        "type(lista_1)"
      ],
      "metadata": {
        "colab": {
          "base_uri": "https://localhost:8080/"
        },
        "id": "U4_ojCua-3FY",
        "outputId": "f35c9591-e39c-45c5-bade-7528fc81b20a"
      },
      "execution_count": 3,
      "outputs": [
        {
          "output_type": "execute_result",
          "data": {
            "text/plain": [
              "list"
            ]
          },
          "metadata": {},
          "execution_count": 3
        }
      ]
    },
    {
      "cell_type": "markdown",
      "source": [
        "##For loops"
      ],
      "metadata": {
        "id": "NPwySiNkBJJ_"
      }
    },
    {
      "cell_type": "code",
      "source": [
        "for ix, elementos in enumerate(lista_1):#enumera la lista y le agrega un indice para crear una tupla\n",
        "  #print(\"indice\", ix, \"nombre\", elementos)\n",
        "  #print(f\"indice: {ix} nombre: {elementos}\" )\n",
        "  valor_print = \"indice: {} nombre: {}\".format(ix,elementos)\n",
        "  print(valor_print)"
      ],
      "metadata": {
        "colab": {
          "base_uri": "https://localhost:8080/"
        },
        "id": "xfL-Vz_v-6Uv",
        "outputId": "43d904b6-241e-439b-b173-3c29f3fed477"
      },
      "execution_count": 14,
      "outputs": [
        {
          "output_type": "stream",
          "name": "stdout",
          "text": [
            "indice: 0 nombre: manzana\n",
            "indice: 1 nombre: pera\n",
            "indice: 2 nombre: durazno\n",
            "indice: 3 nombre: melon\n"
          ]
        }
      ]
    },
    {
      "cell_type": "markdown",
      "source": [
        "## list comprehesion"
      ],
      "metadata": {
        "id": "ZM9JDQOGBFld"
      }
    },
    {
      "cell_type": "code",
      "source": [
        "#for ele in lista_1:\n",
        "# print(ele)\n",
        "\n",
        "# es equivalente a\n",
        "lista_2 = [elementos for elementos in lista_1]\n",
        "lista_2"
      ],
      "metadata": {
        "colab": {
          "base_uri": "https://localhost:8080/"
        },
        "id": "3rIc2WCIBTOb",
        "outputId": "7880b01a-3b0d-4a97-9dc9-f0fbefdaa860"
      },
      "execution_count": 18,
      "outputs": [
        {
          "output_type": "execute_result",
          "data": {
            "text/plain": [
              "['manzana', 'pera', 'durazno', 'melon']"
            ]
          },
          "metadata": {},
          "execution_count": 18
        }
      ]
    },
    {
      "cell_type": "markdown",
      "source": [
        "##while loop"
      ],
      "metadata": {
        "id": "0vfhztkGCFOt"
      }
    },
    {
      "cell_type": "code",
      "source": [
        "i = 5\n",
        "while i < 10:\n",
        "  #i = i + 1\n",
        "  i += 1\n",
        "  print(i)"
      ],
      "metadata": {
        "colab": {
          "base_uri": "https://localhost:8080/"
        },
        "id": "gikfs7s5CJbP",
        "outputId": "230f484c-d727-47dd-dc81-31da14593ab5"
      },
      "execution_count": 26,
      "outputs": [
        {
          "output_type": "stream",
          "name": "stdout",
          "text": [
            "6\n",
            "7\n",
            "8\n",
            "9\n",
            "10\n"
          ]
        }
      ]
    },
    {
      "cell_type": "code",
      "source": [
        "import pandas\n",
        "import math\n",
        "\n",
        "\n",
        "def funcion_piso(numero):\n",
        "  numero_piso = int(numero )\n",
        "  return numero_piso\n",
        "\n",
        "numero_redondeado = funcion_piso(3.9)\n",
        "print(numero_redondeado)\n"
      ],
      "metadata": {
        "colab": {
          "base_uri": "https://localhost:8080/"
        },
        "id": "rgAHjUt3ErQo",
        "outputId": "cfe87e78-a898-4a28-b822-2c905df8c9d2"
      },
      "execution_count": 31,
      "outputs": [
        {
          "output_type": "stream",
          "name": "stdout",
          "text": [
            "3\n"
          ]
        }
      ]
    },
    {
      "cell_type": "markdown",
      "source": [
        "##Peticiones HTTP"
      ],
      "metadata": {
        "id": "BNgFH8w9IdI5"
      }
    },
    {
      "cell_type": "code",
      "source": [
        "import requests\n",
        "url = 'https://crawler-test.com/'\n",
        "params = {}\n",
        "\n",
        "respuesta = requests.get(url,params)\n",
        "type(respuesta)\n",
        "\n",
        "\n",
        "#C - Create - POST\n",
        "#R - Retrieve - GET\n",
        "#U - Update - PUT\n",
        "#D - Delete - DELETE"
      ],
      "metadata": {
        "colab": {
          "base_uri": "https://localhost:8080/"
        },
        "id": "jpQzJFgpHg2d",
        "outputId": "86cac62c-e1be-4bb0-ac47-89050f778b28"
      },
      "execution_count": 46,
      "outputs": [
        {
          "output_type": "execute_result",
          "data": {
            "text/plain": [
              "requests.models.Response"
            ]
          },
          "metadata": {},
          "execution_count": 46
        }
      ]
    },
    {
      "cell_type": "markdown",
      "source": [
        "##Manejo de Errores"
      ],
      "metadata": {
        "id": "2CUvvjy2N4ZR"
      }
    },
    {
      "cell_type": "markdown",
      "source": [
        "### Levantar errores / definir errores"
      ],
      "metadata": {
        "id": "hBtMEnzxO4Og"
      }
    },
    {
      "cell_type": "code",
      "source": [
        "from prompt_toolkit.validation import ValidationError\n",
        "# raise: funciones que ya viene definido por python\n",
        "#raise ValueError ('Mensaje de error')\n",
        "#raise ValidationError ('Warning')"
      ],
      "metadata": {
        "colab": {
          "base_uri": "https://localhost:8080/",
          "height": 209
        },
        "id": "5NwRwPM-Pb00",
        "outputId": "5e9c6e54-da84-4095-ede5-c04d446686be"
      },
      "execution_count": 52,
      "outputs": [
        {
          "output_type": "error",
          "ename": "ValidationError",
          "evalue": "ignored",
          "traceback": [
            "\u001b[0;31m---------------------------------------------------------------------------\u001b[0m",
            "\u001b[0;31mValidationError\u001b[0m                           Traceback (most recent call last)",
            "\u001b[0;32m<ipython-input-52-31688a59af3c>\u001b[0m in \u001b[0;36m<module>\u001b[0;34m\u001b[0m\n\u001b[1;32m      2\u001b[0m \u001b[0;31m# raise: funciones que ya viene definido por python\u001b[0m\u001b[0;34m\u001b[0m\u001b[0;34m\u001b[0m\u001b[0;34m\u001b[0m\u001b[0m\n\u001b[1;32m      3\u001b[0m \u001b[0;31m#raise ValueError ('Mensaje de error')\u001b[0m\u001b[0;34m\u001b[0m\u001b[0;34m\u001b[0m\u001b[0;34m\u001b[0m\u001b[0m\n\u001b[0;32m----> 4\u001b[0;31m \u001b[0;32mraise\u001b[0m \u001b[0mValidationError\u001b[0m \u001b[0;34m(\u001b[0m\u001b[0;34m'Warning'\u001b[0m\u001b[0;34m)\u001b[0m\u001b[0;34m\u001b[0m\u001b[0;34m\u001b[0m\u001b[0m\n\u001b[0m",
            "\u001b[0;31mValidationError\u001b[0m: "
          ]
        }
      ]
    },
    {
      "cell_type": "code",
      "source": [
        "def suma(a, b):\n",
        "  if type(a) != int or type(b) != int:\n",
        "    raise TypeError('el tipo de dato no es numero')\n",
        "  valor_sumado = a + b\n",
        "  return valor_sumado"
      ],
      "metadata": {
        "id": "3gqHp_G-QmGz"
      },
      "execution_count": 60,
      "outputs": []
    },
    {
      "cell_type": "code",
      "source": [],
      "metadata": {
        "id": "oBFlVRypRpvk"
      },
      "execution_count": null,
      "outputs": []
    },
    {
      "cell_type": "markdown",
      "source": [
        "###Manejar Errores"
      ],
      "metadata": {
        "id": "i8NRtINKOgZb"
      }
    },
    {
      "cell_type": "code",
      "source": [
        "'''\n",
        "try:\n",
        "  <option1>\n",
        "except:\n",
        "  <option2>\n",
        "'''\n",
        "try:\n",
        "  '123' + 3\n",
        "except:\n",
        "  print(\"algo fallo\")  \n"
      ],
      "metadata": {
        "colab": {
          "base_uri": "https://localhost:8080/"
        },
        "id": "-7LKMJNSRu0z",
        "outputId": "8ebe59e3-e4e2-4110-eca8-b5ed41d196aa"
      },
      "execution_count": 61,
      "outputs": [
        {
          "output_type": "stream",
          "name": "stdout",
          "text": [
            "algo fallo\n"
          ]
        }
      ]
    },
    {
      "cell_type": "code",
      "source": [
        "def sumatryexcep(a, b):\n",
        "  try:\n",
        "    valor_sumado = a + b\n",
        "    print('Se hizo bien')\n",
        "  except:\n",
        "    print('Algo hizo mal')\n",
        "    valor_sumado = None\n",
        "  return valor_sumado\n"
      ],
      "metadata": {
        "id": "_p88Nix7Se2s"
      },
      "execution_count": 74,
      "outputs": []
    },
    {
      "cell_type": "code",
      "source": [
        "sumatryexcep(5, 1)"
      ],
      "metadata": {
        "colab": {
          "base_uri": "https://localhost:8080/"
        },
        "id": "GOczstK-TyjT",
        "outputId": "f99fd8b3-cb6b-4eb1-8820-03e9206f6a87"
      },
      "execution_count": 75,
      "outputs": [
        {
          "output_type": "stream",
          "name": "stdout",
          "text": [
            "Se hizo bien\n"
          ]
        },
        {
          "output_type": "execute_result",
          "data": {
            "text/plain": [
              "6"
            ]
          },
          "metadata": {},
          "execution_count": 75
        }
      ]
    },
    {
      "cell_type": "markdown",
      "source": [
        "#Debuggeo traceback"
      ],
      "metadata": {
        "id": "0CsIK46CUXfz"
      }
    },
    {
      "cell_type": "code",
      "source": [
        "from logging import exception\n",
        "def funcion_secundaria():\n",
        "  valor_sumado = 'a' + 1\n",
        "  return valor_sumado\n",
        "  \n",
        "\n",
        "def funcion_principal():\n",
        "\n",
        "  try:\n",
        "    resultado_final = funcion_secundaria()\n",
        "  except BaseException:\n",
        "    print('Ocurrio un error')\n",
        "    resultado_final =None\n",
        "  finally:\n",
        "    print(\"Se ejecuto la funcion final\")\n",
        "  return resultado_final\n",
        "\n"
      ],
      "metadata": {
        "id": "f6wuRFXVUfZW"
      },
      "execution_count": 82,
      "outputs": []
    },
    {
      "cell_type": "code",
      "source": [
        "\n",
        "respuesta = funcion_principal()\n",
        "respuesta"
      ],
      "metadata": {
        "colab": {
          "base_uri": "https://localhost:8080/"
        },
        "id": "oaAaZwV5VR6a",
        "outputId": "a6596d21-102f-4ea3-ef78-30d78aaf2207"
      },
      "execution_count": 85,
      "outputs": [
        {
          "output_type": "stream",
          "name": "stdout",
          "text": [
            "Ocurrio un error\n",
            "Se ejecuto la funcion final\n"
          ]
        }
      ]
    },
    {
      "cell_type": "code",
      "source": [],
      "metadata": {
        "id": "MOVkPW-rVRNB"
      },
      "execution_count": null,
      "outputs": []
    }
  ]
}