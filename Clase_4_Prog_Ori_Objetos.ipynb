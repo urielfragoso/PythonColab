{
  "nbformat": 4,
  "nbformat_minor": 0,
  "metadata": {
    "colab": {
      "provenance": [],
      "authorship_tag": "ABX9TyPa34JEP06hSDKRm1H3FPJ4",
      "include_colab_link": true
    },
    "kernelspec": {
      "name": "python3",
      "display_name": "Python 3"
    },
    "language_info": {
      "name": "python"
    }
  },
  "cells": [
    {
      "cell_type": "markdown",
      "metadata": {
        "id": "view-in-github",
        "colab_type": "text"
      },
      "source": [
        "<a href=\"https://colab.research.google.com/github/urielfragoso/PythonColab/blob/main/Clase_4_Prog_Ori_Objetos.ipynb\" target=\"_parent\"><img src=\"https://colab.research.google.com/assets/colab-badge.svg\" alt=\"Open In Colab\"/></a>"
      ]
    },
    {
      "cell_type": "markdown",
      "source": [
        "#Programacion orientada a objetos"
      ],
      "metadata": {
        "id": "wFXfRSgauPzw"
      }
    },
    {
      "cell_type": "markdown",
      "source": [
        "## Estilos de sintaxis de variables"
      ],
      "metadata": {
        "id": "krbbO6hPw7sU"
      }
    },
    {
      "cell_type": "code",
      "source": [
        "variableNumericaEntera = 1\n",
        "variableNumericaFlotante = 2.3\n",
        "\n",
        "#Variables constantes se ponen en MAYUSCULAS\n",
        "PI = 3.1416\n"
      ],
      "metadata": {
        "id": "MPYKF2jPw-iu"
      },
      "execution_count": null,
      "outputs": []
    },
    {
      "cell_type": "markdown",
      "source": [
        "#DEFINIR UNA CLASE"
      ],
      "metadata": {
        "id": "34-rVCFXxLW0"
      }
    },
    {
      "cell_type": "markdown",
      "source": [
        "##Atributos"
      ],
      "metadata": {
        "id": "Rk4wGWvxzBVy"
      }
    },
    {
      "cell_type": "code",
      "source": [
        "class Perro:\n",
        "  raza = 'Bulldog'\n",
        "  edad = '3 años'\n",
        "\n",
        "  def ladrar(self):\n",
        "    print(\"Ladrar \")\n",
        "  def ladrar_alto(self):\n",
        "    print(\"Ladrar ALTO\")\n",
        "  \n",
        "  def ladrar_edad(self):\n",
        "    print(f\"La edad del perro {self.edad}\")"
      ],
      "metadata": {
        "id": "yu9Z8xczxNyw"
      },
      "execution_count": 15,
      "outputs": []
    },
    {
      "cell_type": "code",
      "source": [
        "mascota_uriel = Perro()\n",
        "mascota_elias = Perro()"
      ],
      "metadata": {
        "id": "6_k5ucwkx1LH"
      },
      "execution_count": 16,
      "outputs": []
    },
    {
      "cell_type": "code",
      "source": [
        "mascota_uriel.edad, mascota_uriel.raza\n",
        "mascota_elias.edad, mascota_elias.raza"
      ],
      "metadata": {
        "colab": {
          "base_uri": "https://localhost:8080/"
        },
        "id": "VkRPT2WHyBjG",
        "outputId": "b5bbe2ea-8693-4903-85c3-d44e42d88828"
      },
      "execution_count": 18,
      "outputs": [
        {
          "output_type": "execute_result",
          "data": {
            "text/plain": [
              "('3 años', 'Bulldog')"
            ]
          },
          "metadata": {},
          "execution_count": 18
        }
      ]
    },
    {
      "cell_type": "code",
      "source": [
        "mascota_uriel.color = 'Cafe'\n",
        "mascota_elias.color = 'Azul'\n",
        "mascota_elias.edad = \"5  años\""
      ],
      "metadata": {
        "id": "5oJttaFHySkb"
      },
      "execution_count": 22,
      "outputs": []
    },
    {
      "cell_type": "code",
      "source": [
        "mascota_uriel.color, mascota_elias.color"
      ],
      "metadata": {
        "colab": {
          "base_uri": "https://localhost:8080/"
        },
        "id": "GOyvsa0eyWkF",
        "outputId": "12a3c7f8-5b70-4631-ed2f-cb35d8dc865d"
      },
      "execution_count": 20,
      "outputs": [
        {
          "output_type": "execute_result",
          "data": {
            "text/plain": [
              "('Cafe', 'Azul')"
            ]
          },
          "metadata": {},
          "execution_count": 20
        }
      ]
    },
    {
      "cell_type": "markdown",
      "source": [
        "## Metodos"
      ],
      "metadata": {
        "id": "1E8ACmpGzEb-"
      }
    },
    {
      "cell_type": "code",
      "source": [
        "mascota_uriel.ladrar_edad()\n",
        "mascota_elias.ladrar_edad()"
      ],
      "metadata": {
        "colab": {
          "base_uri": "https://localhost:8080/"
        },
        "id": "BpJKHVFdzKoF",
        "outputId": "06629bcc-39ac-4b6d-ac88-a9a9d0255987"
      },
      "execution_count": 24,
      "outputs": [
        {
          "output_type": "stream",
          "name": "stdout",
          "text": [
            "La edad del perro 3 años\n",
            "La edad del perro 5  años\n"
          ]
        }
      ]
    },
    {
      "cell_type": "markdown",
      "source": [
        "#Opcion 1"
      ],
      "metadata": {
        "id": "jty4CFi10hk4"
      }
    },
    {
      "cell_type": "code",
      "source": [
        "class Perro_1:\n",
        "  \n",
        "  def __init__(self,color,edad):\n",
        "    \n",
        "    self.color = color\n",
        "    self.edad = edad\n",
        "  \n",
        "    \n",
        "\n",
        "  def ladrar(self):\n",
        "    print(\"Ladrar \")\n",
        "  def ladrar_alto(self):\n",
        "    print(\"Ladrar ALTO\")\n",
        "  \n",
        "  def ladrar_edad(self):\n",
        "    print(\"La edad del perro \"+ {self.edad})"
      ],
      "metadata": {
        "id": "JxgEnOtd0pId"
      },
      "execution_count": 37,
      "outputs": []
    },
    {
      "cell_type": "markdown",
      "source": [
        "## HERENCIA"
      ],
      "metadata": {
        "id": "DLA61wsj3iDl"
      }
    },
    {
      "cell_type": "markdown",
      "source": [
        "##opcion 1"
      ],
      "metadata": {
        "id": "aIk8HXTADSz4"
      }
    },
    {
      "cell_type": "code",
      "source": [
        "class Empleado(object):\n",
        "  def __init__(self,nombre,iden):\n",
        "    self.nombre = nombre\n",
        "    self.iden = iden\n",
        "\n",
        "  def identificate(self,profesion):\n",
        "    print(f\"Soy {self.nombre}\\nProfesion {profesion}\")\n",
        "\n",
        "class valencia(object):\n",
        "  domicilio = 'Mexico'\n",
        "\n",
        "class RecHumanos(Empleado,valencia):\n",
        "  def saludo(self):\n",
        "    print(\"Mi nombre es {} \\nID: {}\".format(self.nombre, str(self.iden)))\n",
        "    \n"
      ],
      "metadata": {
        "id": "vW2IBJ8I4Xdk"
      },
      "execution_count": 86,
      "outputs": []
    },
    {
      "cell_type": "code",
      "source": [
        "rec_humano = RecHumanos(\"uriel\",123)\n",
        "rec_humano.saludo()\n",
        "rec_humano.identificate(\"Asesor\")"
      ],
      "metadata": {
        "colab": {
          "base_uri": "https://localhost:8080/"
        },
        "id": "sRcFj2jt4y1p",
        "outputId": "d80c7b60-0813-4f3a-d716-ce460fdd0205"
      },
      "execution_count": 87,
      "outputs": [
        {
          "output_type": "stream",
          "name": "stdout",
          "text": [
            "Mi nombre es uriel \n",
            "ID: 123\n",
            "Soy uriel\n",
            "Profesion Asesor\n"
          ]
        }
      ]
    },
    {
      "cell_type": "markdown",
      "source": [
        "## opcion 2"
      ],
      "metadata": {
        "id": "sZcy6uLGDUus"
      }
    },
    {
      "cell_type": "code",
      "source": [
        "class Animal_5:\n",
        "  def hablar(self):\n",
        "    pass\n",
        "class perro_5(Animal_5):\n",
        "  def hablar(self):\n",
        "    print(\"Ladrar\")\n",
        "\n",
        "class gato_5(Animal_5):\n",
        "  def hablar(self):\n",
        "    print(\"Miau\")"
      ],
      "metadata": {
        "id": "e5QrBsV6DWxi"
      },
      "execution_count": 88,
      "outputs": []
    },
    {
      "cell_type": "code",
      "source": [
        "perro_polimorfismo = perro_5()\n",
        "gato_polimorfismo = gato_5()"
      ],
      "metadata": {
        "id": "sH6fS9DyDp7B"
      },
      "execution_count": 89,
      "outputs": []
    },
    {
      "cell_type": "code",
      "source": [
        "for animanl in perro_5(), gato_5():\n",
        "  animanl.hablar()"
      ],
      "metadata": {
        "colab": {
          "base_uri": "https://localhost:8080/"
        },
        "id": "Qr4S9JbPDydi",
        "outputId": "13c74869-bd60-491f-e122-9a13e50cb174"
      },
      "execution_count": 95,
      "outputs": [
        {
          "output_type": "stream",
          "name": "stdout",
          "text": [
            "Ladrar\n",
            "Miau\n"
          ]
        }
      ]
    }
  ]
}