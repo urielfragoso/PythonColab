{
  "nbformat": 4,
  "nbformat_minor": 0,
  "metadata": {
    "colab": {
      "provenance": [],
      "authorship_tag": "ABX9TyNZX1otzE/ZZqMWi/GXsSnJ",
      "include_colab_link": true
    },
    "kernelspec": {
      "name": "python3",
      "display_name": "Python 3"
    },
    "language_info": {
      "name": "python"
    }
  },
  "cells": [
    {
      "cell_type": "markdown",
      "metadata": {
        "id": "view-in-github",
        "colab_type": "text"
      },
      "source": [
        "<a href=\"https://colab.research.google.com/github/urielfragoso/PythonColab/blob/main/Practica_1.ipynb\" target=\"_parent\"><img src=\"https://colab.research.google.com/assets/colab-badge.svg\" alt=\"Open In Colab\"/></a>"
      ]
    },
    {
      "cell_type": "code",
      "execution_count": null,
      "metadata": {
        "id": "I9K0VeI6cYg6"
      },
      "outputs": [],
      "source": []
    },
    {
      "cell_type": "markdown",
      "source": [
        "#Datos Personales"
      ],
      "metadata": {
        "id": "-NurmhDBccXJ"
      }
    },
    {
      "cell_type": "markdown",
      "source": [
        "## Nombre: Uriel Fragoso"
      ],
      "metadata": {
        "id": "gpsI9D-6cftm"
      }
    },
    {
      "cell_type": "markdown",
      "source": [
        "##Curso Python Avanzado"
      ],
      "metadata": {
        "id": "jLKhOVF_cpMP"
      }
    },
    {
      "cell_type": "markdown",
      "source": [
        "#Variables"
      ],
      "metadata": {
        "id": "oenvb498c0_2"
      }
    },
    {
      "cell_type": "code",
      "source": [
        "nombre = \"Uriel Fragoso\"\n",
        "edad = 38\n",
        "peso= 80.8\n",
        "activo = True\n",
        "\n",
        "lista_nombres = ('uriel','paola','daian','marco')\n",
        "tupla_nombres =( 'uriel: padre','paola : madre','hijo: marco')"
      ],
      "metadata": {
        "id": "3fyruUZDc6gP"
      },
      "execution_count": 20,
      "outputs": []
    },
    {
      "cell_type": "code",
      "source": [
        "nombre"
      ],
      "metadata": {
        "colab": {
          "base_uri": "https://localhost:8080/",
          "height": 36
        },
        "id": "bq5ibaGkdf7b",
        "outputId": "ffdd49bb-093c-4d57-81af-bae9bc4cb960"
      },
      "execution_count": 4,
      "outputs": [
        {
          "output_type": "execute_result",
          "data": {
            "text/plain": [
              "'Uriel Fragoso'"
            ],
            "application/vnd.google.colaboratory.intrinsic+json": {
              "type": "string"
            }
          },
          "metadata": {},
          "execution_count": 4
        }
      ]
    },
    {
      "cell_type": "code",
      "source": [
        "edad"
      ],
      "metadata": {
        "colab": {
          "base_uri": "https://localhost:8080/"
        },
        "id": "U221gIBBdi1f",
        "outputId": "48e65f38-998f-4210-8143-2847a4518600"
      },
      "execution_count": 5,
      "outputs": [
        {
          "output_type": "execute_result",
          "data": {
            "text/plain": [
              "38"
            ]
          },
          "metadata": {},
          "execution_count": 5
        }
      ]
    },
    {
      "cell_type": "code",
      "source": [
        "peso"
      ],
      "metadata": {
        "colab": {
          "base_uri": "https://localhost:8080/"
        },
        "id": "l2hWCL6KdjlI",
        "outputId": "11784fd1-dc3b-400c-a2ba-3eb8fe0ac75a"
      },
      "execution_count": 7,
      "outputs": [
        {
          "output_type": "execute_result",
          "data": {
            "text/plain": [
              "80.8"
            ]
          },
          "metadata": {},
          "execution_count": 7
        }
      ]
    },
    {
      "cell_type": "code",
      "source": [
        "activo"
      ],
      "metadata": {
        "colab": {
          "base_uri": "https://localhost:8080/"
        },
        "id": "HBjLmyXTdxLS",
        "outputId": "2cfe0121-02c8-4991-810b-4df934324113"
      },
      "execution_count": 11,
      "outputs": [
        {
          "output_type": "execute_result",
          "data": {
            "text/plain": [
              "True"
            ]
          },
          "metadata": {},
          "execution_count": 11
        }
      ]
    },
    {
      "cell_type": "code",
      "source": [
        "lista_nombres"
      ],
      "metadata": {
        "colab": {
          "base_uri": "https://localhost:8080/"
        },
        "id": "jsT4c7vPeAOC",
        "outputId": "b9104e54-2056-4e99-afc5-3bc9708e92fc"
      },
      "execution_count": 14,
      "outputs": [
        {
          "output_type": "execute_result",
          "data": {
            "text/plain": [
              "('uriel', 'paola', 'daian', 'marco')"
            ]
          },
          "metadata": {},
          "execution_count": 14
        }
      ]
    },
    {
      "cell_type": "code",
      "source": [
        "tupla_nombres"
      ],
      "metadata": {
        "colab": {
          "base_uri": "https://localhost:8080/"
        },
        "id": "QAOtRjSreWv6",
        "outputId": "ace270b2-ec41-4f28-8517-0108c9aebd99"
      },
      "execution_count": 21,
      "outputs": [
        {
          "output_type": "execute_result",
          "data": {
            "text/plain": [
              "('uriel: padre', 'paola : madre', 'hijo: marco')"
            ]
          },
          "metadata": {},
          "execution_count": 21
        }
      ]
    }
  ]
}