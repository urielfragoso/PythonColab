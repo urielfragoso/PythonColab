{
  "nbformat": 4,
  "nbformat_minor": 0,
  "metadata": {
    "colab": {
      "provenance": [],
      "authorship_tag": "ABX9TyNrF0LldAC93BbJq+PcfXoD",
      "include_colab_link": true
    },
    "kernelspec": {
      "name": "python3",
      "display_name": "Python 3"
    },
    "language_info": {
      "name": "python"
    }
  },
  "cells": [
    {
      "cell_type": "markdown",
      "metadata": {
        "id": "view-in-github",
        "colab_type": "text"
      },
      "source": [
        "<a href=\"https://colab.research.google.com/github/urielfragoso/PythonColab/blob/main/Practiva_6_1_Interfaz_linea_de_comandos.ipynb\" target=\"_parent\"><img src=\"https://colab.research.google.com/assets/colab-badge.svg\" alt=\"Open In Colab\"/></a>"
      ]
    },
    {
      "cell_type": "markdown",
      "source": [
        "##DIRECTORIO"
      ],
      "metadata": {
        "id": "vZ5f02a35Gzd"
      }
    },
    {
      "cell_type": "code",
      "execution_count": null,
      "metadata": {
        "colab": {
          "base_uri": "https://localhost:8080/"
        },
        "id": "zK4UONTE0uZd",
        "outputId": "ae3064ac-655b-4565-8ffd-1c3872017f03"
      },
      "outputs": [
        {
          "output_type": "stream",
          "name": "stdout",
          "text": [
            "\u001b[0m\u001b[01;34msample_data\u001b[0m/\n"
          ]
        }
      ],
      "source": [
        "ls\n"
      ]
    },
    {
      "cell_type": "code",
      "source": [
        "ls -a"
      ],
      "metadata": {
        "colab": {
          "base_uri": "https://localhost:8080/"
        },
        "id": "hR_VV5GC0927",
        "outputId": "76d130ec-5a25-486e-d8b7-cc8e246b1481"
      },
      "execution_count": null,
      "outputs": [
        {
          "output_type": "stream",
          "name": "stdout",
          "text": [
            "\u001b[0m\u001b[01;34m.\u001b[0m/  \u001b[01;34m..\u001b[0m/  \u001b[01;34m.config\u001b[0m/  \u001b[01;34msample_data\u001b[0m/\n"
          ]
        }
      ]
    },
    {
      "cell_type": "code",
      "source": [
        "ls /"
      ],
      "metadata": {
        "colab": {
          "base_uri": "https://localhost:8080/"
        },
        "id": "L4julvPH1A6f",
        "outputId": "97c15686-9b58-4e4b-da2f-d81a0ce27b4f"
      },
      "execution_count": null,
      "outputs": [
        {
          "output_type": "stream",
          "name": "stdout",
          "text": [
            "\u001b[0m\u001b[01;34mbin\u001b[0m/      \u001b[01;34mdev\u001b[0m/   \u001b[01;34mlib32\u001b[0m/  NGC-DL-CONTAINER-LICENSE  \u001b[01;34mroot\u001b[0m/  \u001b[01;34msys\u001b[0m/    \u001b[01;34mvar\u001b[0m/\n",
            "\u001b[01;34mboot\u001b[0m/     \u001b[01;34metc\u001b[0m/   \u001b[01;34mlib64\u001b[0m/  \u001b[01;34mopt\u001b[0m/                      \u001b[01;34mrun\u001b[0m/   \u001b[30;42mtmp\u001b[0m/\n",
            "\u001b[01;34mcontent\u001b[0m/  \u001b[01;34mhome\u001b[0m/  \u001b[01;34mmedia\u001b[0m/  \u001b[01;34mproc\u001b[0m/                     \u001b[01;34msbin\u001b[0m/  \u001b[01;34mtools\u001b[0m/\n",
            "\u001b[01;34mdatalab\u001b[0m/  \u001b[01;34mlib\u001b[0m/   \u001b[01;34mmnt\u001b[0m/    \u001b[01;34mpython-apt\u001b[0m/               \u001b[01;34msrv\u001b[0m/   \u001b[01;34musr\u001b[0m/\n"
          ]
        }
      ]
    },
    {
      "cell_type": "code",
      "source": [
        "mkdir ejemplo_directorio"
      ],
      "metadata": {
        "id": "RONEhyZ01C1g"
      },
      "execution_count": null,
      "outputs": []
    },
    {
      "cell_type": "code",
      "source": [
        "ls -lh"
      ],
      "metadata": {
        "colab": {
          "base_uri": "https://localhost:8080/"
        },
        "id": "_P__0-Iw1O2d",
        "outputId": "144b7eff-3705-4cd7-fca5-ac9920450e1e"
      },
      "execution_count": null,
      "outputs": [
        {
          "output_type": "stream",
          "name": "stdout",
          "text": [
            "total 8.0K\n",
            "drwxr-xr-x 2 root root 4.0K Dec  6 00:26 \u001b[0m\u001b[01;34mejemplo_directorio\u001b[0m/\n",
            "drwxr-xr-x 1 root root 4.0K Dec  2 14:34 \u001b[01;34msample_data\u001b[0m/\n"
          ]
        }
      ]
    },
    {
      "cell_type": "code",
      "source": [
        "!date +%D"
      ],
      "metadata": {
        "colab": {
          "base_uri": "https://localhost:8080/"
        },
        "id": "1BHAM5vK1q8W",
        "outputId": "d96ab5ea-18b2-46c9-d014-069da1684e99"
      },
      "execution_count": null,
      "outputs": [
        {
          "output_type": "stream",
          "name": "stdout",
          "text": [
            "12/06/22\n"
          ]
        }
      ]
    },
    {
      "cell_type": "code",
      "source": [
        "!date +%D\" \"%H:%M:S\n",
        "\n",
        "!date --date=\"monday\""
      ],
      "metadata": {
        "colab": {
          "base_uri": "https://localhost:8080/"
        },
        "id": "kOLu-L2x1vsq",
        "outputId": "1f03d1b7-6005-458c-fff6-9e7f349a967c"
      },
      "execution_count": null,
      "outputs": [
        {
          "output_type": "stream",
          "name": "stdout",
          "text": [
            "12/06/22 00:35:S\n",
            "Mon Dec 12 00:00:00 UTC 2022\n"
          ]
        }
      ]
    },
    {
      "cell_type": "code",
      "source": [
        "!TZ='America/Mexico_City' date"
      ],
      "metadata": {
        "colab": {
          "base_uri": "https://localhost:8080/"
        },
        "id": "ZK3j82wk26m9",
        "outputId": "b3d2215d-77bd-49d7-dd41-7c97f08113a4"
      },
      "execution_count": null,
      "outputs": [
        {
          "output_type": "stream",
          "name": "stdout",
          "text": [
            "Mon Dec  5 18:36:47 CST 2022\n"
          ]
        }
      ]
    },
    {
      "cell_type": "code",
      "source": [
        "ls"
      ],
      "metadata": {
        "colab": {
          "base_uri": "https://localhost:8080/"
        },
        "id": "_RN-9pM43yIO",
        "outputId": "73ce3286-a28d-4b2d-b9e0-ac70c3bd1765"
      },
      "execution_count": null,
      "outputs": [
        {
          "output_type": "stream",
          "name": "stdout",
          "text": [
            "\u001b[0m\u001b[01;34mejemplo_directorio\u001b[0m/  \u001b[01;34msample_data\u001b[0m/\n"
          ]
        }
      ]
    },
    {
      "cell_type": "code",
      "source": [
        "cd sample_data/"
      ],
      "metadata": {
        "colab": {
          "base_uri": "https://localhost:8080/"
        },
        "id": "g-GBIZ-i35BA",
        "outputId": "e539d34e-8aa2-4feb-d5ea-ce45f38feb2a"
      },
      "execution_count": null,
      "outputs": [
        {
          "output_type": "stream",
          "name": "stdout",
          "text": [
            "/content/sample_data\n"
          ]
        }
      ]
    },
    {
      "cell_type": "code",
      "source": [
        "cd ejemplo_directorio/"
      ],
      "metadata": {
        "colab": {
          "base_uri": "https://localhost:8080/"
        },
        "id": "z5CCtvWc37WK",
        "outputId": "b9c06eb5-5402-46f6-e92e-19afd6d4282c"
      },
      "execution_count": null,
      "outputs": [
        {
          "output_type": "stream",
          "name": "stdout",
          "text": [
            "/content/ejemplo_directorio\n"
          ]
        }
      ]
    },
    {
      "cell_type": "code",
      "source": [
        "ls"
      ],
      "metadata": {
        "colab": {
          "base_uri": "https://localhost:8080/"
        },
        "id": "ny0_-QPc4xdy",
        "outputId": "159aaf01-2b20-40b7-e841-b72279709c60"
      },
      "execution_count": null,
      "outputs": [
        {
          "output_type": "stream",
          "name": "stdout",
          "text": [
            "script_ejemp.py\n"
          ]
        }
      ]
    },
    {
      "cell_type": "code",
      "source": [
        "!python3 script_ejemp.py\n"
      ],
      "metadata": {
        "colab": {
          "base_uri": "https://localhost:8080/"
        },
        "id": "KdDi7Wos4zPz",
        "outputId": "c504d139-a832-4767-fdd7-881a71aed0e6"
      },
      "execution_count": null,
      "outputs": [
        {
          "output_type": "stream",
          "name": "stdout",
          "text": [
            "Hola! como te llamasurie\n",
            "Que edad tienes /n38\n",
            "2022-12-05 18:46:57.151004-06:00\n",
            "urie  Tiene 38 Años\n"
          ]
        }
      ]
    },
    {
      "cell_type": "markdown",
      "source": [
        "## PYTHON"
      ],
      "metadata": {
        "id": "KzknMN1a6Qo-"
      }
    },
    {
      "cell_type": "code",
      "source": [
        "!python3 practica.py"
      ],
      "metadata": {
        "colab": {
          "base_uri": "https://localhost:8080/"
        },
        "id": "lwazjJ9z6Up7",
        "outputId": "dd872448-720a-4aec-8964-d25dd7cdc552"
      },
      "execution_count": 44,
      "outputs": [
        {
          "output_type": "stream",
          "name": "stdout",
          "text": [
            "Ingrese una ciudad:Mexico\n",
            "Ingrese una ciudad:Monterrey\n",
            "Ingrese una ciudad:Guadalajara\n",
            "Hola! uriel\n",
            "['Mexico', 'Monterrey', 'Guadalajara']\n",
            "^C\n"
          ]
        }
      ]
    },
    {
      "cell_type": "code",
      "source": [
        "import pandas as pd\n",
        "import requests\n",
        "import json\n",
        "\n",
        "\n",
        "\n",
        "#api_key = \"80a80da72f50148daed134ffd4c96758\"\n",
        "lat = \"21\"\n",
        "lon = \"-99.9167\"\n",
        "\n",
        "# cdmx.  https://openweathermap.org/city/3520914\n",
        "params = {\n",
        "    \"lat\":21,\n",
        "    \"lon\":-99.9167,\n",
        "    \"units\":'metric',\n",
        "    \"appid\":'439d4b804bc8187953eb36d2a8c26a02'\n",
        "    }\n",
        "\n",
        "url_liga = \"https://openweathermap.org/data/2.5/onecall\"\n",
        "\n",
        "\n",
        "response = requests.get(url_liga, params=params)\n",
        "\n",
        "#data = json.loads(response.text)\n",
        "data = response.json()\n",
        "\n",
        "url_liga\n"
      ],
      "metadata": {
        "colab": {
          "base_uri": "https://localhost:8080/",
          "height": 36
        },
        "id": "ay-5vJz-FoJu",
        "outputId": "be614898-5508-4bbf-c9b4-e84968023c9b"
      },
      "execution_count": 76,
      "outputs": [
        {
          "output_type": "execute_result",
          "data": {
            "text/plain": [
              "'https://openweathermap.org/data/2.5/onecall'"
            ],
            "application/vnd.google.colaboratory.intrinsic+json": {
              "type": "string"
            }
          },
          "metadata": {},
          "execution_count": 76
        }
      ]
    },
    {
      "cell_type": "code",
      "source": [
        "response.content"
      ],
      "metadata": {
        "colab": {
          "base_uri": "https://localhost:8080/"
        },
        "id": "uTkc3CTUH-Yv",
        "outputId": "e9e295f8-8a9b-41f1-ad8e-74c26eb3be2e"
      },
      "execution_count": 77,
      "outputs": [
        {
          "output_type": "execute_result",
          "data": {
            "text/plain": [
              "b'{\"lat\":21,\"lon\":-99.9167,\"timezone\":\"America/Mexico_City\",\"timezone_offset\":-21600,\"current\":{\"dt\":1670291937,\"sunrise\":1670245381,\"sunset\":1670284680,\"temp\":15.91,\"feels_like\":15.18,\"pressure\":1015,\"humidity\":62,\"dew_point\":8.65,\"uvi\":0,\"clouds\":1,\"visibility\":10000,\"wind_speed\":1.92,\"wind_deg\":30,\"wind_gust\":2.05,\"weather\":[{\"id\":800,\"main\":\"Clear\",\"description\":\"clear sky\",\"icon\":\"01n\"}]},\"minutely\":[{\"dt\":1670291940,\"precipitation\":0},{\"dt\":1670292000,\"precipitation\":0},{\"dt\":1670292060,\"precipitation\":0},{\"dt\":1670292120,\"precipitation\":0},{\"dt\":1670292180,\"precipitation\":0},{\"dt\":1670292240,\"precipitation\":0},{\"dt\":1670292300,\"precipitation\":0},{\"dt\":1670292360,\"precipitation\":0},{\"dt\":1670292420,\"precipitation\":0},{\"dt\":1670292480,\"precipitation\":0},{\"dt\":1670292540,\"precipitation\":0},{\"dt\":1670292600,\"precipitation\":0},{\"dt\":1670292660,\"precipitation\":0},{\"dt\":1670292720,\"precipitation\":0},{\"dt\":1670292780,\"precipitation\":0},{\"dt\":1670292840,\"precipitation\":0},{\"dt\":1670292900,\"precipitation\":0},{\"dt\":1670292960,\"precipitation\":0},{\"dt\":1670293020,\"precipitation\":0},{\"dt\":1670293080,\"precipitation\":0},{\"dt\":1670293140,\"precipitation\":0},{\"dt\":1670293200,\"precipitation\":0},{\"dt\":1670293260,\"precipitation\":0},{\"dt\":1670293320,\"precipitation\":0},{\"dt\":1670293380,\"precipitation\":0},{\"dt\":1670293440,\"precipitation\":0},{\"dt\":1670293500,\"precipitation\":0},{\"dt\":1670293560,\"precipitation\":0},{\"dt\":1670293620,\"precipitation\":0},{\"dt\":1670293680,\"precipitation\":0},{\"dt\":1670293740,\"precipitation\":0},{\"dt\":1670293800,\"precipitation\":0},{\"dt\":1670293860,\"precipitation\":0},{\"dt\":1670293920,\"precipitation\":0},{\"dt\":1670293980,\"precipitation\":0},{\"dt\":1670294040,\"precipitation\":0},{\"dt\":1670294100,\"precipitation\":0},{\"dt\":1670294160,\"precipitation\":0},{\"dt\":1670294220,\"precipitation\":0},{\"dt\":1670294280,\"precipitation\":0},{\"dt\":1670294340,\"precipitation\":0},{\"dt\":1670294400,\"precipitation\":0},{\"dt\":1670294460,\"precipitation\":0},{\"dt\":1670294520,\"precipitation\":0},{\"dt\":1670294580,\"precipitation\":0},{\"dt\":1670294640,\"precipitation\":0},{\"dt\":1670294700,\"precipitation\":0},{\"dt\":1670294760,\"precipitation\":0},{\"dt\":1670294820,\"precipitation\":0},{\"dt\":1670294880,\"precipitation\":0},{\"dt\":1670294940,\"precipitation\":0},{\"dt\":1670295000,\"precipitation\":0},{\"dt\":1670295060,\"precipitation\":0},{\"dt\":1670295120,\"precipitation\":0},{\"dt\":1670295180,\"precipitation\":0},{\"dt\":1670295240,\"precipitation\":0},{\"dt\":1670295300,\"precipitation\":0},{\"dt\":1670295360,\"precipitation\":0},{\"dt\":1670295420,\"precipitation\":0},{\"dt\":1670295480,\"precipitation\":0},{\"dt\":1670295540,\"precipitation\":0}],\"hourly\":[{\"dt\":1670288400,\"temp\":16.17,\"feels_like\":15.41,\"pressure\":1015,\"humidity\":60,\"dew_point\":8.41,\"uvi\":0,\"clouds\":1,\"visibility\":10000,\"wind_speed\":2.46,\"wind_deg\":33,\"wind_gust\":2.38,\"weather\":[{\"id\":800,\"main\":\"Clear\",\"description\":\"clear sky\",\"icon\":\"01n\"}],\"pop\":0},{\"dt\":1670292000,\"temp\":15.91,\"feels_like\":15.18,\"pressure\":1015,\"humidity\":62,\"dew_point\":8.65,\"uvi\":0,\"clouds\":1,\"visibility\":10000,\"wind_speed\":1.92,\"wind_deg\":30,\"wind_gust\":2.05,\"weather\":[{\"id\":800,\"main\":\"Clear\",\"description\":\"clear sky\",\"icon\":\"01n\"}],\"pop\":0},{\"dt\":1670295600,\"temp\":15.74,\"feels_like\":15.01,\"pressure\":1015,\"humidity\":63,\"dew_point\":8.72,\"uvi\":0,\"clouds\":1,\"visibility\":10000,\"wind_speed\":1.44,\"wind_deg\":32,\"wind_gust\":1.6,\"weather\":[{\"id\":800,\"main\":\"Clear\",\"description\":\"clear sky\",\"icon\":\"01n\"}],\"pop\":0},{\"dt\":1670299200,\"temp\":15.28,\"feels_like\":14.59,\"pressure\":1015,\"humidity\":66,\"dew_point\":8.97,\"uvi\":0,\"clouds\":1,\"visibility\":10000,\"wind_speed\":1.18,\"wind_deg\":34,\"wind_gust\":1.31,\"weather\":[{\"id\":800,\"main\":\"Clear\",\"description\":\"clear sky\",\"icon\":\"01n\"}],\"pop\":0},{\"dt\":1670302800,\"temp\":14.6,\"feels_like\":13.94,\"pressure\":1016,\"humidity\":70,\"dew_point\":9.2,\"uvi\":0,\"clouds\":0,\"visibility\":10000,\"wind_speed\":0.86,\"wind_deg\":45,\"wind_gust\":0.97,\"weather\":[{\"id\":800,\"main\":\"Clear\",\"description\":\"clear sky\",\"icon\":\"01n\"}],\"pop\":0},{\"dt\":1670306400,\"temp\":13.78,\"feels_like\":13.15,\"pressure\":1016,\"humidity\":74,\"dew_point\":9.23,\"uvi\":0,\"clouds\":0,\"visibility\":10000,\"wind_speed\":0.48,\"wind_deg\":71,\"wind_gust\":0.61,\"weather\":[{\"id\":800,\"main\":\"Clear\",\"description\":\"clear sky\",\"icon\":\"01n\"}],\"pop\":0},{\"dt\":1670310000,\"temp\":12.8,\"feels_like\":12.17,\"pressure\":1016,\"humidity\":78,\"dew_point\":8.96,\"uvi\":0,\"clouds\":0,\"visibility\":10000,\"wind_speed\":0.46,\"wind_deg\":91,\"wind_gust\":0.52,\"weather\":[{\"id\":800,\"main\":\"Clear\",\"description\":\"clear sky\",\"icon\":\"01n\"}],\"pop\":0},{\"dt\":1670313600,\"temp\":12.42,\"feels_like\":11.78,\"pressure\":1016,\"humidity\":79,\"dew_point\":8.87,\"uvi\":0,\"clouds\":0,\"visibility\":10000,\"wind_speed\":0.09,\"wind_deg\":29,\"wind_gust\":0.32,\"weather\":[{\"id\":800,\"main\":\"Clear\",\"description\":\"clear sky\",\"icon\":\"01n\"}],\"pop\":0},{\"dt\":1670317200,\"temp\":12.08,\"feels_like\":11.46,\"pressure\":1016,\"humidity\":81,\"dew_point\":8.8,\"uvi\":0,\"clouds\":0,\"visibility\":10000,\"wind_speed\":0.49,\"wind_deg\":322,\"wind_gust\":0.54,\"weather\":[{\"id\":800,\"main\":\"Clear\",\"description\":\"clear sky\",\"icon\":\"01n\"}],\"pop\":0},{\"dt\":1670320800,\"temp\":11.77,\"feels_like\":11.14,\"pressure\":1016,\"humidity\":82,\"dew_point\":8.75,\"uvi\":0,\"clouds\":0,\"visibility\":10000,\"wind_speed\":0.77,\"wind_deg\":333,\"wind_gust\":0.76,\"weather\":[{\"id\":800,\"main\":\"Clear\",\"description\":\"clear sky\",\"icon\":\"01n\"}],\"pop\":0},{\"dt\":1670324400,\"temp\":11.46,\"feels_like\":10.8,\"pressure\":1016,\"humidity\":82,\"dew_point\":8.5,\"uvi\":0,\"clouds\":0,\"visibility\":10000,\"wind_speed\":0.41,\"wind_deg\":342,\"wind_gust\":0.44,\"weather\":[{\"id\":800,\"main\":\"Clear\",\"description\":\"clear sky\",\"icon\":\"01n\"}],\"pop\":0},{\"dt\":1670328000,\"temp\":11.15,\"feels_like\":10.49,\"pressure\":1017,\"humidity\":83,\"dew_point\":8.24,\"uvi\":0,\"clouds\":0,\"visibility\":10000,\"wind_speed\":0.16,\"wind_deg\":231,\"wind_gust\":0.26,\"weather\":[{\"id\":800,\"main\":\"Clear\",\"description\":\"clear sky\",\"icon\":\"01n\"}],\"pop\":0},{\"dt\":1670331600,\"temp\":10.91,\"feels_like\":10.2,\"pressure\":1017,\"humidity\":82,\"dew_point\":7.96,\"uvi\":0,\"clouds\":0,\"visibility\":10000,\"wind_speed\":0.66,\"wind_deg\":211,\"wind_gust\":0.64,\"weather\":[{\"id\":800,\"main\":\"Clear\",\"description\":\"clear sky\",\"icon\":\"01n\"}],\"pop\":0},{\"dt\":1670335200,\"temp\":14.32,\"feels_like\":13.58,\"pressure\":1018,\"humidity\":68,\"dew_point\":8.53,\"uvi\":0.29,\"clouds\":0,\"visibility\":10000,\"wind_speed\":1.09,\"wind_deg\":206,\"wind_gust\":1.07,\"weather\":[{\"id\":800,\"main\":\"Clear\",\"description\":\"clear sky\",\"icon\":\"01d\"}],\"pop\":0},{\"dt\":1670338800,\"temp\":16.59,\"feels_like\":15.79,\"pressure\":1018,\"humidity\":57,\"dew_point\":7.89,\"uvi\":1.33,\"clouds\":0,\"visibility\":10000,\"wind_speed\":0.88,\"wind_deg\":205,\"wind_gust\":1.1,\"weather\":[{\"id\":800,\"main\":\"Clear\",\"description\":\"clear sky\",\"icon\":\"01d\"}],\"pop\":0},{\"dt\":1670342400,\"temp\":18.77,\"feels_like\":17.93,\"pressure\":1017,\"humidity\":47,\"dew_point\":7.07,\"uvi\":3.2,\"clouds\":0,\"visibility\":10000,\"wind_speed\":0.51,\"wind_deg\":178,\"wind_gust\":0.87,\"weather\":[{\"id\":800,\"main\":\"Clear\",\"description\":\"clear sky\",\"icon\":\"01d\"}],\"pop\":0},{\"dt\":1670346000,\"temp\":20.67,\"feels_like\":19.78,\"pressure\":1016,\"humidity\":38,\"dew_point\":5.83,\"uvi\":5.34,\"clouds\":0,\"visibility\":10000,\"wind_speed\":0.51,\"wind_deg\":67,\"wind_gust\":0.81,\"weather\":[{\"id\":800,\"main\":\"Clear\",\"description\":\"clear sky\",\"icon\":\"01d\"}],\"pop\":0},{\"dt\":1670349600,\"temp\":22.22,\"feels_like\":21.31,\"pressure\":1015,\"humidity\":31,\"dew_point\":4.25,\"uvi\":6.88,\"clouds\":0,\"visibility\":10000,\"wind_speed\":1.31,\"wind_deg\":36,\"wind_gust\":1.37,\"weather\":[{\"id\":800,\"main\":\"Clear\",\"description\":\"clear sky\",\"icon\":\"01d\"}],\"pop\":0},{\"dt\":1670353200,\"temp\":23.33,\"feels_like\":22.4,\"pressure\":1013,\"humidity\":26,\"dew_point\":2.88,\"uvi\":7.19,\"clouds\":0,\"visibility\":10000,\"wind_speed\":1.64,\"wind_deg\":38,\"wind_gust\":1.4,\"weather\":[{\"id\":800,\"main\":\"Clear\",\"description\":\"clear sky\",\"icon\":\"01d\"}],\"pop\":0},{\"dt\":1670356800,\"temp\":24.04,\"feels_like\":23.1,\"pressure\":1012,\"humidity\":23,\"dew_point\":1.88,\"uvi\":6.03,\"clouds\":0,\"visibility\":10000,\"wind_speed\":1.99,\"wind_deg\":40,\"wind_gust\":1.5,\"weather\":[{\"id\":800,\"main\":\"Clear\",\"description\":\"clear sky\",\"icon\":\"01d\"}],\"pop\":0},{\"dt\":1670360400,\"temp\":24.41,\"feels_like\":23.48,\"pressure\":1011,\"humidity\":22,\"dew_point\":1.38,\"uvi\":3.96,\"clouds\":0,\"visibility\":10000,\"wind_speed\":2.32,\"wind_deg\":41,\"wind_gust\":1.7,\"weather\":[{\"id\":800,\"main\":\"Clear\",\"description\":\"clear sky\",\"icon\":\"01d\"}],\"pop\":0},{\"dt\":1670364000,\"temp\":24.24,\"feels_like\":23.32,\"pressure\":1011,\"humidity\":23,\"dew_point\":1.77,\"uvi\":1.88,\"clouds\":0,\"visibility\":10000,\"wind_speed\":2.84,\"wind_deg\":43,\"wind_gust\":2.08,\"weather\":[{\"id\":800,\"main\":\"Clear\",\"description\":\"clear sky\",\"icon\":\"01d\"}],\"pop\":0},{\"dt\":1670367600,\"temp\":23.13,\"feels_like\":22.23,\"pressure\":1012,\"humidity\":28,\"dew_point\":3.5,\"uvi\":0.54,\"clouds\":0,\"visibility\":10000,\"wind_speed\":3.5,\"wind_deg\":44,\"wind_gust\":2.63,\"weather\":[{\"id\":800,\"main\":\"Clear\",\"description\":\"clear sky\",\"icon\":\"01d\"}],\"pop\":0},{\"dt\":1670371200,\"temp\":19.42,\"feels_like\":18.57,\"pressure\":1013,\"humidity\":44,\"dew_point\":6.54,\"uvi\":0,\"clouds\":0,\"visibility\":10000,\"wind_speed\":3.12,\"wind_deg\":43,\"wind_gust\":2.91,\"weather\":[{\"id\":800,\"main\":\"Clear\",\"description\":\"clear sky\",\"icon\":\"01n\"}],\"pop\":0},{\"dt\":1670374800,\"temp\":17.48,\"feels_like\":16.69,\"pressure\":1015,\"humidity\":54,\"dew_point\":8.08,\"uvi\":0,\"clouds\":0,\"visibility\":10000,\"wind_speed\":2.43,\"wind_deg\":40,\"wind_gust\":2.39,\"weather\":[{\"id\":800,\"main\":\"Clear\",\"description\":\"clear sky\",\"icon\":\"01n\"}],\"pop\":0},{\"dt\":1670378400,\"temp\":16.32,\"feels_like\":15.6,\"pressure\":1017,\"humidity\":61,\"dew_point\":8.78,\"uvi\":0,\"clouds\":0,\"visibility\":10000,\"wind_speed\":1.97,\"wind_deg\":43,\"wind_gust\":1.98,\"weather\":[{\"id\":800,\"main\":\"Clear\",\"description\":\"clear sky\",\"icon\":\"01n\"}],\"pop\":0},{\"dt\":1670382000,\"temp\":15.43,\"feels_like\":14.78,\"pressure\":1017,\"humidity\":67,\"dew_point\":9.21,\"uvi\":0,\"clouds\":0,\"visibility\":10000,\"wind_speed\":1.74,\"wind_deg\":44,\"wind_gust\":1.74,\"weather\":[{\"id\":800,\"main\":\"Clear\",\"description\":\"clear sky\",\"icon\":\"01n\"}],\"pop\":0},{\"dt\":1670385600,\"temp\":14.67,\"feels_like\":14.07,\"pressure\":1018,\"humidity\":72,\"dew_point\":9.56,\"uvi\":0,\"clouds\":0,\"visibility\":10000,\"wind_speed\":1.61,\"wind_deg\":45,\"wind_gust\":1.6,\"weather\":[{\"id\":800,\"main\":\"Clear\",\"description\":\"clear sky\",\"icon\":\"01n\"}],\"pop\":0},{\"dt\":1670389200,\"temp\":13.95,\"feels_like\":13.41,\"pressure\":1018,\"humidity\":77,\"dew_point\":9.87,\"uvi\":0,\"clouds\":0,\"visibility\":10000,\"wind_speed\":1.38,\"wind_deg\":51,\"wind_gust\":1.41,\"weather\":[{\"id\":800,\"main\":\"Clear\",\"description\":\"clear sky\",\"icon\":\"01n\"}],\"pop\":0},{\"dt\":1670392800,\"temp\":13.27,\"feels_like\":12.77,\"pressure\":1018,\"humidity\":81,\"dew_point\":10.06,\"uvi\":0,\"clouds\":0,\"visibility\":10000,\"wind_speed\":1.23,\"wind_deg\":68,\"wind_gust\":1.2,\"weather\":[{\"id\":800,\"main\":\"Clear\",\"description\":\"clear sky\",\"icon\":\"01n\"}],\"pop\":0},{\"dt\":1670396400,\"temp\":12.68,\"feels_like\":12.22,\"pressure\":1018,\"humidity\":85,\"dew_point\":10.19,\"uvi\":0,\"clouds\":4,\"visibility\":10000,\"wind_speed\":1.2,\"wind_deg\":73,\"wind_gust\":1.2,\"weather\":[{\"id\":800,\"main\":\"Clear\",\"description\":\"clear sky\",\"icon\":\"01n\"}],\"pop\":0},{\"dt\":1670400000,\"temp\":12.2,\"feels_like\":11.8,\"pressure\":1018,\"humidity\":89,\"dew_point\":10.3,\"uvi\":0,\"clouds\":9,\"visibility\":10000,\"wind_speed\":1.03,\"wind_deg\":66,\"wind_gust\":1.1,\"weather\":[{\"id\":800,\"main\":\"Clear\",\"description\":\"clear sky\",\"icon\":\"01n\"}],\"pop\":0},{\"dt\":1670403600,\"temp\":11.73,\"feels_like\":11.33,\"pressure\":1019,\"humidity\":91,\"dew_point\":10.19,\"uvi\":0,\"clouds\":13,\"visibility\":10000,\"wind_speed\":0.99,\"wind_deg\":44,\"wind_gust\":1,\"weather\":[{\"id\":801,\"main\":\"Clouds\",\"description\":\"few clouds\",\"icon\":\"02n\"}],\"pop\":0},{\"dt\":1670407200,\"temp\":11.32,\"feels_like\":10.91,\"pressure\":1019,\"humidity\":92,\"dew_point\":9.92,\"uvi\":0,\"clouds\":15,\"visibility\":10000,\"wind_speed\":1,\"wind_deg\":36,\"wind_gust\":0.94,\"weather\":[{\"id\":801,\"main\":\"Clouds\",\"description\":\"few clouds\",\"icon\":\"02n\"}],\"pop\":0},{\"dt\":1670410800,\"temp\":10.94,\"feels_like\":10.49,\"pressure\":1019,\"humidity\":92,\"dew_point\":9.68,\"uvi\":0,\"clouds\":16,\"visibility\":10000,\"wind_speed\":0.99,\"wind_deg\":47,\"wind_gust\":0.97,\"weather\":[{\"id\":801,\"main\":\"Clouds\",\"description\":\"few clouds\",\"icon\":\"02n\"}],\"pop\":0},{\"dt\":1670414400,\"temp\":10.56,\"feels_like\":10.1,\"pressure\":1020,\"humidity\":93,\"dew_point\":9.43,\"uvi\":0,\"clouds\":17,\"visibility\":10000,\"wind_speed\":0.96,\"wind_deg\":47,\"wind_gust\":0.97,\"weather\":[{\"id\":801,\"main\":\"Clouds\",\"description\":\"few clouds\",\"icon\":\"02n\"}],\"pop\":0},{\"dt\":1670418000,\"temp\":10.2,\"feels_like\":9.73,\"pressure\":1021,\"humidity\":94,\"dew_point\":9.21,\"uvi\":0,\"clouds\":20,\"visibility\":10000,\"wind_speed\":0.82,\"wind_deg\":47,\"wind_gust\":0.84,\"weather\":[{\"id\":801,\"main\":\"Clouds\",\"description\":\"few clouds\",\"icon\":\"02n\"}],\"pop\":0},{\"dt\":1670421600,\"temp\":12.01,\"feels_like\":11.59,\"pressure\":1022,\"humidity\":89,\"dew_point\":10.23,\"uvi\":0.29,\"clouds\":20,\"visibility\":10000,\"wind_speed\":0.77,\"wind_deg\":50,\"wind_gust\":0.77,\"weather\":[{\"id\":801,\"main\":\"Clouds\",\"description\":\"few clouds\",\"icon\":\"02d\"}],\"pop\":0},{\"dt\":1670425200,\"temp\":13.72,\"feels_like\":13.21,\"pressure\":1022,\"humidity\":79,\"dew_point\":10.14,\"uvi\":1.34,\"clouds\":20,\"visibility\":10000,\"wind_speed\":0.87,\"wind_deg\":55,\"wind_gust\":0.62,\"weather\":[{\"id\":801,\"main\":\"Clouds\",\"description\":\"few clouds\",\"icon\":\"02d\"}],\"pop\":0},{\"dt\":1670428800,\"temp\":15.87,\"feels_like\":15.26,\"pressure\":1021,\"humidity\":67,\"dew_point\":9.75,\"uvi\":3.27,\"clouds\":16,\"visibility\":10000,\"wind_speed\":1.03,\"wind_deg\":58,\"wind_gust\":0.58,\"weather\":[{\"id\":801,\"main\":\"Clouds\",\"description\":\"few clouds\",\"icon\":\"02d\"}],\"pop\":0},{\"dt\":1670432400,\"temp\":18.05,\"feels_like\":17.37,\"pressure\":1020,\"humidity\":56,\"dew_point\":9.02,\"uvi\":5.45,\"clouds\":13,\"visibility\":10000,\"wind_speed\":1.43,\"wind_deg\":58,\"wind_gust\":0.77,\"weather\":[{\"id\":801,\"main\":\"Clouds\",\"description\":\"few clouds\",\"icon\":\"02d\"}],\"pop\":0},{\"dt\":1670436000,\"temp\":19.91,\"feels_like\":19.18,\"pressure\":1019,\"humidity\":47,\"dew_point\":8.2,\"uvi\":7.02,\"clouds\":11,\"visibility\":10000,\"wind_speed\":1.79,\"wind_deg\":49,\"wind_gust\":1.24,\"weather\":[{\"id\":801,\"main\":\"Clouds\",\"description\":\"few clouds\",\"icon\":\"02d\"}],\"pop\":0},{\"dt\":1670439600,\"temp\":21.36,\"feels_like\":20.6,\"pressure\":1017,\"humidity\":40,\"dew_point\":7.18,\"uvi\":7.27,\"clouds\":0,\"visibility\":10000,\"wind_speed\":2.03,\"wind_deg\":48,\"wind_gust\":1.51,\"weather\":[{\"id\":800,\"main\":\"Clear\",\"description\":\"clear sky\",\"icon\":\"01d\"}],\"pop\":0},{\"dt\":1670443200,\"temp\":22.37,\"feels_like\":21.58,\"pressure\":1016,\"humidity\":35,\"dew_point\":5.98,\"uvi\":6.09,\"clouds\":0,\"visibility\":10000,\"wind_speed\":2.24,\"wind_deg\":48,\"wind_gust\":1.53,\"weather\":[{\"id\":800,\"main\":\"Clear\",\"description\":\"clear sky\",\"icon\":\"01d\"}],\"pop\":0},{\"dt\":1670446800,\"temp\":22.85,\"feels_like\":22.03,\"pressure\":1015,\"humidity\":32,\"dew_point\":5.24,\"uvi\":4,\"clouds\":0,\"visibility\":10000,\"wind_speed\":2.78,\"wind_deg\":46,\"wind_gust\":1.87,\"weather\":[{\"id\":800,\"main\":\"Clear\",\"description\":\"clear sky\",\"icon\":\"01d\"}],\"pop\":0},{\"dt\":1670450400,\"temp\":22.64,\"feels_like\":21.82,\"pressure\":1014,\"humidity\":33,\"dew_point\":5.57,\"uvi\":1.9,\"clouds\":0,\"visibility\":10000,\"wind_speed\":3.7,\"wind_deg\":45,\"wind_gust\":2.31,\"weather\":[{\"id\":800,\"main\":\"Clear\",\"description\":\"clear sky\",\"icon\":\"01d\"}],\"pop\":0},{\"dt\":1670454000,\"temp\":21.31,\"feels_like\":20.51,\"pressure\":1015,\"humidity\":39,\"dew_point\":6.87,\"uvi\":0.55,\"clouds\":0,\"visibility\":10000,\"wind_speed\":4.07,\"wind_deg\":42,\"wind_gust\":3.24,\"weather\":[{\"id\":800,\"main\":\"Clear\",\"description\":\"clear sky\",\"icon\":\"01d\"}],\"pop\":0},{\"dt\":1670457600,\"temp\":18.16,\"feels_like\":17.44,\"pressure\":1017,\"humidity\":54,\"dew_point\":8.68,\"uvi\":0,\"clouds\":0,\"visibility\":10000,\"wind_speed\":3.15,\"wind_deg\":38,\"wind_gust\":3.1,\"weather\":[{\"id\":800,\"main\":\"Clear\",\"description\":\"clear sky\",\"icon\":\"01n\"}],\"pop\":0}],\"daily\":[{\"dt\":1670263200,\"sunrise\":1670245381,\"sunset\":1670284680,\"moonrise\":1670278560,\"moonset\":1670237160,\"moon_phase\":0.42,\"temp\":{\"day\":20.34,\"min\":9.15,\"max\":23.26,\"night\":14.6,\"eve\":17.23,\"morn\":9.27},\"feels_like\":{\"day\":19.42,\"night\":13.94,\"eve\":16.42,\"morn\":9.27},\"pressure\":1016,\"humidity\":38,\"dew_point\":5.53,\"wind_speed\":2.55,\"wind_deg\":45,\"wind_gust\":2.4,\"weather\":[{\"id\":800,\"main\":\"Clear\",\"description\":\"clear sky\",\"icon\":\"01d\"}],\"clouds\":0,\"pop\":0,\"uvi\":7.21},{\"dt\":1670349600,\"sunrise\":1670331819,\"sunset\":1670371092,\"moonrise\":1670367360,\"moonset\":1670326860,\"moon_phase\":0.46,\"temp\":{\"day\":22.22,\"min\":10.91,\"max\":24.41,\"night\":13.95,\"eve\":19.42,\"morn\":11.15},\"feels_like\":{\"day\":21.31,\"night\":13.41,\"eve\":18.57,\"morn\":10.49},\"pressure\":1015,\"humidity\":31,\"dew_point\":4.25,\"wind_speed\":3.5,\"wind_deg\":44,\"wind_gust\":2.91,\"weather\":[{\"id\":800,\"main\":\"Clear\",\"description\":\"clear sky\",\"icon\":\"01d\"}],\"clouds\":0,\"pop\":0,\"uvi\":7.19},{\"dt\":1670436000,\"sunrise\":1670418257,\"sunset\":1670457504,\"moonrise\":1670456400,\"moonset\":1670416620,\"moon_phase\":0.5,\"temp\":{\"day\":19.91,\"min\":10.2,\"max\":22.85,\"night\":12.43,\"eve\":18.16,\"morn\":10.56},\"feels_like\":{\"day\":19.18,\"night\":12.03,\"eve\":17.44,\"morn\":10.1},\"pressure\":1019,\"humidity\":47,\"dew_point\":8.2,\"wind_speed\":4.07,\"wind_deg\":42,\"wind_gust\":3.24,\"weather\":[{\"id\":801,\"main\":\"Clouds\",\"description\":\"few clouds\",\"icon\":\"02d\"}],\"clouds\":11,\"pop\":0,\"uvi\":7.27},{\"dt\":1670522400,\"sunrise\":1670504694,\"sunset\":1670543919,\"moonrise\":1670545620,\"moonset\":1670506380,\"moon_phase\":0.52,\"temp\":{\"day\":18.67,\"min\":10.8,\"max\":21.89,\"night\":13.39,\"eve\":17.64,\"morn\":11},\"feels_like\":{\"day\":17.58,\"night\":12.59,\"eve\":16.63,\"morn\":10.43},\"pressure\":1018,\"humidity\":38,\"dew_point\":3.94,\"wind_speed\":3.22,\"wind_deg\":37,\"wind_gust\":3.17,\"weather\":[{\"id\":802,\"main\":\"Clouds\",\"description\":\"scattered clouds\",\"icon\":\"03d\"}],\"clouds\":36,\"pop\":0,\"uvi\":7.37},{\"dt\":1670608800,\"sunrise\":1670591131,\"sunset\":1670630334,\"moonrise\":1670635140,\"moonset\":1670595960,\"moon_phase\":0.55,\"temp\":{\"day\":18.18,\"min\":8.28,\"max\":21.14,\"night\":13.27,\"eve\":17.35,\"morn\":8.28},\"feels_like\":{\"day\":17.05,\"night\":12.58,\"eve\":16.34,\"morn\":8.28},\"pressure\":1017,\"humidity\":38,\"dew_point\":3.64,\"wind_speed\":2.96,\"wind_deg\":46,\"wind_gust\":2.74,\"weather\":[{\"id\":800,\"main\":\"Clear\",\"description\":\"clear sky\",\"icon\":\"01d\"}],\"clouds\":10,\"pop\":0,\"uvi\":7.27},{\"dt\":1670695200,\"sunrise\":1670677567,\"sunset\":1670716750,\"moonrise\":1670724660,\"moonset\":1670685480,\"moon_phase\":0.58,\"temp\":{\"day\":20.85,\"min\":9.6,\"max\":23.43,\"night\":14.85,\"eve\":18.99,\"morn\":9.6},\"feels_like\":{\"day\":19.85,\"night\":14.06,\"eve\":17.91,\"morn\":9.6},\"pressure\":1014,\"humidity\":33,\"dew_point\":4.12,\"wind_speed\":2.97,\"wind_deg\":32,\"wind_gust\":3.04,\"weather\":[{\"id\":800,\"main\":\"Clear\",\"description\":\"clear sky\",\"icon\":\"01d\"}],\"clouds\":0,\"pop\":0,\"uvi\":8},{\"dt\":1670781600,\"sunrise\":1670764003,\"sunset\":1670803168,\"moonrise\":1670814300,\"moonset\":1670774640,\"moon_phase\":0.61,\"temp\":{\"day\":21.99,\"min\":11.83,\"max\":23.79,\"night\":15.81,\"eve\":19.94,\"morn\":11.83},\"feels_like\":{\"day\":20.98,\"night\":15.01,\"eve\":18.88,\"morn\":10.84},\"pressure\":1013,\"humidity\":28,\"dew_point\":2.81,\"wind_speed\":2.7,\"wind_deg\":42,\"wind_gust\":2.7,\"weather\":[{\"id\":800,\"main\":\"Clear\",\"description\":\"clear sky\",\"icon\":\"01d\"}],\"clouds\":0,\"pop\":0,\"uvi\":8},{\"dt\":1670868000,\"sunrise\":1670850439,\"sunset\":1670889587,\"moonrise\":1670903880,\"moonset\":1670863620,\"moon_phase\":0.64,\"temp\":{\"day\":22.57,\"min\":12.95,\"max\":24.55,\"night\":17.79,\"eve\":20.99,\"morn\":12.95},\"feels_like\":{\"day\":21.61,\"night\":16.64,\"eve\":19.9,\"morn\":11.87},\"pressure\":1013,\"humidity\":28,\"dew_point\":3.37,\"wind_speed\":1.66,\"wind_deg\":313,\"wind_gust\":2.74,\"weather\":[{\"id\":800,\"main\":\"Clear\",\"description\":\"clear sky\",\"icon\":\"01d\"}],\"clouds\":0,\"pop\":0,\"uvi\":8}]}'"
            ]
          },
          "metadata": {},
          "execution_count": 77
        }
      ]
    },
    {
      "cell_type": "code",
      "source": [
        "data.keys()"
      ],
      "metadata": {
        "colab": {
          "base_uri": "https://localhost:8080/"
        },
        "id": "VQf_2nRMH9nN",
        "outputId": "798ddfdb-2254-4b65-838e-210353f187af"
      },
      "execution_count": 78,
      "outputs": [
        {
          "output_type": "execute_result",
          "data": {
            "text/plain": [
              "dict_keys(['lat', 'lon', 'timezone', 'timezone_offset', 'current', 'minutely', 'hourly', 'daily'])"
            ]
          },
          "metadata": {},
          "execution_count": 78
        }
      ]
    },
    {
      "cell_type": "code",
      "source": [
        "actual = data['current']\n",
        "temp = actual['temp']\n",
        "humedad =actual['humidity']\n",
        "visibilidad = actual['visibility']\n",
        "\n",
        "\n",
        "print(\"Temperatura \"+ str(temp))\n",
        "print(\"humedad \"+str(humedad))\n",
        "print(\"visibiliad \"+str(visibilidad))"
      ],
      "metadata": {
        "colab": {
          "base_uri": "https://localhost:8080/"
        },
        "id": "L0mSwHOAIfEB",
        "outputId": "d54586df-83f4-467c-ed00-01bc9aab23d6"
      },
      "execution_count": 93,
      "outputs": [
        {
          "output_type": "stream",
          "name": "stdout",
          "text": [
            "Temperatura15.91\n",
            "humedad62\n",
            "visibiliad10000\n"
          ]
        }
      ]
    },
    {
      "cell_type": "code",
      "source": [
        "import datetime\n",
        "cdmx = !TZ='America/Mexico_City' date\n",
        "\n",
        "cdmx"
      ],
      "metadata": {
        "colab": {
          "base_uri": "https://localhost:8080/"
        },
        "id": "UBZwX7JHL07n",
        "outputId": "c65eca37-6ff3-4d50-998a-1c024d35ff1d"
      },
      "execution_count": 102,
      "outputs": [
        {
          "output_type": "execute_result",
          "data": {
            "text/plain": [
              "['Mon Dec  5 20:08:30 CST 2022']"
            ]
          },
          "metadata": {},
          "execution_count": 102
        }
      ]
    }
  ]
}