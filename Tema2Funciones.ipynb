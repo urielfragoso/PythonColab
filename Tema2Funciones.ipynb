{
  "nbformat": 4,
  "nbformat_minor": 0,
  "metadata": {
    "colab": {
      "provenance": [],
      "authorship_tag": "ABX9TyP4LPg2rqih7pEu/vO1ahMH",
      "include_colab_link": true
    },
    "kernelspec": {
      "name": "python3",
      "display_name": "Python 3"
    },
    "language_info": {
      "name": "python"
    }
  },
  "cells": [
    {
      "cell_type": "markdown",
      "metadata": {
        "id": "view-in-github",
        "colab_type": "text"
      },
      "source": [
        "<a href=\"https://colab.research.google.com/github/urielfragoso/PythonColab/blob/main/Tema2Funciones.ipynb\" target=\"_parent\"><img src=\"https://colab.research.google.com/assets/colab-badge.svg\" alt=\"Open In Colab\"/></a>"
      ]
    },
    {
      "cell_type": "code",
      "execution_count": null,
      "metadata": {
        "id": "rNsqg97mUW6Y"
      },
      "outputs": [],
      "source": []
    },
    {
      "cell_type": "markdown",
      "source": [
        "#Funciones, Librerias y Principios de abstraccion"
      ],
      "metadata": {
        "id": "cTYseeOHUcGe"
      }
    },
    {
      "cell_type": "code",
      "source": [
        "from traitlets.utils.importstring import import_item\n",
        "def imprimir_hola():\n",
        "  print(\"Hola mundo\")\n",
        "\n",
        "def multiplicacion(a,b):\n",
        "  resultado = a* b\n",
        "  imprimir_hola()\n",
        "  return resultado"
      ],
      "metadata": {
        "id": "f83pdnWjUgHa"
      },
      "execution_count": null,
      "outputs": []
    },
    {
      "cell_type": "code",
      "source": [
        "multiplicacion(5,4)"
      ],
      "metadata": {
        "colab": {
          "base_uri": "https://localhost:8080/"
        },
        "id": "MnwzawZnVCZl",
        "outputId": "f6c28366-2ca3-4c6f-d475-e2998d00ff74"
      },
      "execution_count": null,
      "outputs": [
        {
          "output_type": "stream",
          "name": "stdout",
          "text": [
            "Hola mundo\n"
          ]
        },
        {
          "output_type": "execute_result",
          "data": {
            "text/plain": [
              "20"
            ]
          },
          "metadata": {},
          "execution_count": 2
        }
      ]
    },
    {
      "cell_type": "markdown",
      "source": [
        "## funcion_recursiva"
      ],
      "metadata": {
        "id": "JGpWhtTWW8fo"
      }
    },
    {
      "cell_type": "code",
      "source": [
        "from time import sleep\n",
        "\n",
        "def countdown(n):\n",
        "  if n<=0:\n",
        "    print(\"No entra\")\n",
        "  else:\n",
        "    print(n)\n",
        "    sleep(n)\n",
        "    countdown(n-1)"
      ],
      "metadata": {
        "id": "QZ7Mm-BvVqOZ"
      },
      "execution_count": null,
      "outputs": []
    },
    {
      "cell_type": "code",
      "source": [
        "countdown(5)"
      ],
      "metadata": {
        "colab": {
          "base_uri": "https://localhost:8080/"
        },
        "id": "rVAbS0evWZWL",
        "outputId": "69a78145-6b0c-4b3f-f39c-3a4092f6efc5"
      },
      "execution_count": null,
      "outputs": [
        {
          "output_type": "stream",
          "name": "stdout",
          "text": [
            "5\n",
            "4\n",
            "3\n",
            "2\n",
            "1\n",
            "No entra\n"
          ]
        }
      ]
    },
    {
      "cell_type": "code",
      "source": [
        "def factorial(n):\n",
        "  if n== 1:\n",
        "    return 1\n",
        "  else:\n",
        "    return( n * factorial(n-1))\n",
        "\n",
        "num  = 5\n",
        "resultado_factorial = factorial(num)\n",
        "print(f\"El factor de {num} is {resultado_factorial}\")\n"
      ],
      "metadata": {
        "colab": {
          "base_uri": "https://localhost:8080/"
        },
        "id": "-ivUh81_XiaL",
        "outputId": "65e5965c-2a1c-4407-f957-f3128a4636bd"
      },
      "execution_count": null,
      "outputs": [
        {
          "output_type": "stream",
          "name": "stdout",
          "text": [
            "El factor de 5 is 120\n"
          ]
        }
      ]
    },
    {
      "cell_type": "code",
      "source": [
        "import random\n",
        "\n",
        "for i in range(0,10):\n",
        "  num_random = random.randint(0,10)\n",
        "  print(num_random)\n"
      ],
      "metadata": {
        "colab": {
          "base_uri": "https://localhost:8080/"
        },
        "id": "PMhoFszUbsrO",
        "outputId": "cb1b924e-354c-4e6c-a7f3-53aac90eab75"
      },
      "execution_count": null,
      "outputs": [
        {
          "output_type": "stream",
          "name": "stdout",
          "text": [
            "1\n",
            "7\n",
            "0\n",
            "9\n",
            "0\n",
            "8\n",
            "9\n",
            "4\n",
            "6\n",
            "3\n"
          ]
        }
      ]
    },
    {
      "cell_type": "markdown",
      "source": [
        "##Name spaces\n"
      ],
      "metadata": {
        "id": "eynxrtdAg6Dt"
      }
    },
    {
      "cell_type": "code",
      "source": [
        "variable_1 = \"hola\"\n",
        "variable_2 = \"abc\"\n",
        "def funcion_prueba():\n",
        "  variable_1 = \"adios\"\n",
        "  print(variable_2)\n",
        "\n",
        "\n",
        "def funcion_prueba3():\n",
        "  print(locals())\n",
        "\n",
        "\n",
        "funcion_prueba3()\n"
      ],
      "metadata": {
        "colab": {
          "base_uri": "https://localhost:8080/"
        },
        "id": "3DP23nWxg9qt",
        "outputId": "910ad8c8-1c49-4e0e-d71d-aafe274a0a96"
      },
      "execution_count": null,
      "outputs": [
        {
          "output_type": "stream",
          "name": "stdout",
          "text": [
            "{}\n"
          ]
        }
      ]
    },
    {
      "cell_type": "code",
      "source": [],
      "metadata": {
        "id": "Rrobj-Nclf1v"
      },
      "execution_count": null,
      "outputs": []
    },
    {
      "cell_type": "markdown",
      "source": [
        "##TIMEZONE"
      ],
      "metadata": {
        "id": "PINPGl_tlX2K"
      }
    },
    {
      "cell_type": "code",
      "source": [
        "from datetime import datetime\n",
        "import pytz\n",
        "\n",
        "fecha_mexico = datetime.now(tz=pytz.timezone('America/Mexico_city'))\n",
        "fecha_utc = datetime.now()\n",
        "\n",
        "fecha_mexico\n"
      ],
      "metadata": {
        "colab": {
          "base_uri": "https://localhost:8080/"
        },
        "id": "DZeFZ2SfkoSd",
        "outputId": "b6ab8575-34b5-4a36-e3b8-3bf5e929733b"
      },
      "execution_count": null,
      "outputs": [
        {
          "output_type": "execute_result",
          "data": {
            "text/plain": [
              "datetime.datetime(2022, 11, 25, 19, 35, 17, 282233, tzinfo=<DstTzInfo 'America/Mexico_City' CST-1 day, 18:00:00 STD>)"
            ]
          },
          "metadata": {},
          "execution_count": 6
        }
      ]
    },
    {
      "cell_type": "code",
      "source": [
        "fecha_utc"
      ],
      "metadata": {
        "colab": {
          "base_uri": "https://localhost:8080/"
        },
        "id": "C3eGEXwNk9x1",
        "outputId": "71641ea7-8d6d-4f82-c754-1eb9987181df"
      },
      "execution_count": null,
      "outputs": [
        {
          "output_type": "execute_result",
          "data": {
            "text/plain": [
              "datetime.datetime(2022, 11, 26, 1, 35, 17, 282316)"
            ]
          },
          "metadata": {},
          "execution_count": 7
        }
      ]
    },
    {
      "cell_type": "markdown",
      "source": [
        "#INSTALLAR PAQUETES"
      ],
      "metadata": {
        "id": "K9fQT4N0sbMZ"
      }
    },
    {
      "cell_type": "markdown",
      "source": [
        "#pip install\n",
        "##definidos por terceros\n"
      ],
      "metadata": {
        "id": "s50pMEvvsiwX"
      }
    },
    {
      "cell_type": "code",
      "source": [
        "## instalar libreria\n",
        "# pip install -U scikit-learn\n",
        "## revisar verion\n",
        "# !python -m show scikit-learn\n",
        "from sklearn.model_selection import train_test_split\n",
        "\n",
        "import pandas as pd"
      ],
      "metadata": {
        "id": "lYHnWGzctKBd"
      },
      "execution_count": 1,
      "outputs": []
    },
    {
      "cell_type": "markdown",
      "source": [],
      "metadata": {
        "id": "mBKeYw5Jwoz_"
      }
    },
    {
      "cell_type": "code",
      "source": [
        "x = pd.read_csv('sample_data/california_housing_train.csv')\n",
        "y = pd.read_csv('sample_data/california_housing_train.csv')\n",
        "\n"
      ],
      "metadata": {
        "id": "arW9Y74kta8Y"
      },
      "execution_count": 3,
      "outputs": []
    },
    {
      "cell_type": "code",
      "source": [
        "X_train, X_test, y_train, y_test = train_test_split(X)"
      ],
      "metadata": {
        "colab": {
          "base_uri": "https://localhost:8080/",
          "height": 171
        },
        "id": "-315KPb0xOcr",
        "outputId": "0eee7e17-a358-419e-f35e-ef96eb91cf6e"
      },
      "execution_count": 4,
      "outputs": [
        {
          "output_type": "error",
          "ename": "TypeError",
          "evalue": "ignored",
          "traceback": [
            "\u001b[0;31m---------------------------------------------------------------------------\u001b[0m",
            "\u001b[0;31mTypeError\u001b[0m                                 Traceback (most recent call last)",
            "\u001b[0;32m<ipython-input-4-e4d70621a650>\u001b[0m in \u001b[0;36m<module>\u001b[0;34m\u001b[0m\n\u001b[0;32m----> 1\u001b[0;31m \u001b[0mX_train\u001b[0m\u001b[0;34m,\u001b[0m \u001b[0mX_test\u001b[0m\u001b[0;34m,\u001b[0m \u001b[0my_train\u001b[0m\u001b[0;34m,\u001b[0m \u001b[0my_test\u001b[0m \u001b[0;34m=\u001b[0m \u001b[0mtrain_test_split\u001b[0m\u001b[0;34m\u001b[0m\u001b[0;34m\u001b[0m\u001b[0m\n\u001b[0m",
            "\u001b[0;31mTypeError\u001b[0m: cannot unpack non-iterable function object"
          ]
        }
      ]
    }
  ]
}