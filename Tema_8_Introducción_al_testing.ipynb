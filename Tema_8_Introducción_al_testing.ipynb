{
  "nbformat": 4,
  "nbformat_minor": 0,
  "metadata": {
    "colab": {
      "provenance": [],
      "include_colab_link": true
    },
    "kernelspec": {
      "name": "python3",
      "display_name": "Python 3"
    },
    "language_info": {
      "name": "python"
    }
  },
  "cells": [
    {
      "cell_type": "markdown",
      "metadata": {
        "id": "view-in-github",
        "colab_type": "text"
      },
      "source": [
        "<a href=\"https://colab.research.google.com/github/urielfragoso/PythonColab/blob/main/Tema_8_Introducci%C3%B3n_al_testing.ipynb\" target=\"_parent\"><img src=\"https://colab.research.google.com/assets/colab-badge.svg\" alt=\"Open In Colab\"/></a>"
      ]
    },
    {
      "cell_type": "markdown",
      "source": [
        "# Tema 8. Introducción al testing"
      ],
      "metadata": {
        "id": "euOfEotBg-Zt"
      }
    },
    {
      "cell_type": "markdown",
      "source": [
        "## Instalar paquetes"
      ],
      "metadata": {
        "id": "mOvCfHHXg7Mf"
      }
    },
    {
      "cell_type": "code",
      "source": [
        "!pip install mock"
      ],
      "metadata": {
        "colab": {
          "base_uri": "https://localhost:8080/"
        },
        "id": "m1CPFr9bg3F2",
        "outputId": "b5379888-07ff-41da-a611-fd4be14c6c62"
      },
      "execution_count": 7,
      "outputs": [
        {
          "output_type": "stream",
          "name": "stdout",
          "text": [
            "Looking in indexes: https://pypi.org/simple, https://us-python.pkg.dev/colab-wheels/public/simple/\n",
            "Collecting mock\n",
            "  Downloading mock-4.0.3-py3-none-any.whl (28 kB)\n",
            "Installing collected packages: mock\n",
            "Successfully installed mock-4.0.3\n"
          ]
        }
      ]
    },
    {
      "cell_type": "markdown",
      "source": [
        "## Codigo"
      ],
      "metadata": {
        "id": "oNnnRXAng44L"
      }
    },
    {
      "cell_type": "markdown",
      "source": [
        "### Accediendo a detalles de ruta"
      ],
      "metadata": {
        "id": "VOBUZmOT6vsb"
      }
    },
    {
      "cell_type": "code",
      "source": [
        "! ls"
      ],
      "metadata": {
        "colab": {
          "base_uri": "https://localhost:8080/"
        },
        "id": "RcKltyK_6tzi",
        "outputId": "7b790ed6-15c8-47d9-91f5-e48f1bf26966"
      },
      "execution_count": 4,
      "outputs": [
        {
          "output_type": "stream",
          "name": "stdout",
          "text": [
            "controllers  sample_data  test\n"
          ]
        }
      ]
    },
    {
      "cell_type": "code",
      "source": [
        "#os.path.abspath('.'), os.getcwd()"
      ],
      "metadata": {
        "id": "aGXjJGIe6vNu"
      },
      "execution_count": 5,
      "outputs": []
    },
    {
      "cell_type": "code",
      "source": [
        "!mkdir test\n",
        "!mkdir controllers"
      ],
      "metadata": {
        "id": "aXgfmYHw6vUH"
      },
      "execution_count": 2,
      "outputs": []
    },
    {
      "cell_type": "code",
      "source": [
        "! pytest"
      ],
      "metadata": {
        "colab": {
          "base_uri": "https://localhost:8080/"
        },
        "id": "h2qcGzTcpRYS",
        "outputId": "2ab62ff6-9af7-492a-9026-1d9b0985f368"
      },
      "execution_count": 8,
      "outputs": [
        {
          "output_type": "stream",
          "name": "stdout",
          "text": [
            "\u001b[1m============================= test session starts ==============================\u001b[0m\n",
            "platform linux -- Python 3.8.16, pytest-3.6.4, py-1.11.0, pluggy-0.7.1\n",
            "rootdir: /content, inifile:\n",
            "plugins: typeguard-2.7.1\n",
            "\u001b[1m\rcollecting 0 items                                                             \u001b[0m\u001b[1m\rcollecting 2 items                                                             \u001b[0m\u001b[1m\rcollecting 4 items                                                             \u001b[0m\u001b[1m\rcollected 4 items                                                              \u001b[0m\n",
            "\n",
            "test/test_paquete1.py ..\u001b[36m                                                 [ 50%]\u001b[0m\n",
            "test/test_paquete2.py ..\u001b[36m                                                 [100%]\u001b[0m\n",
            "\n",
            "\u001b[32m\u001b[1m=========================== 4 passed in 0.02 seconds ===========================\u001b[0m\n"
          ]
        }
      ]
    },
    {
      "cell_type": "code",
      "source": [
        "class funciones_matematicas:\n",
        "\n",
        "    def is_int(self, variable):\n",
        "        try:\n",
        "            int(variable)\n",
        "            return True\n",
        "        except:\n",
        "            return False\n",
        "\n",
        "\n",
        "    def sumador(self, *args):\n",
        "        suma = 0\n",
        "        for ele in args:\n",
        "            if self.is_int(ele):\n",
        "                suma += int(ele) # equivalente a -> suma = suma + int(ele)\n",
        "            else:\n",
        "                return False\n",
        "        return suma\n",
        "\n",
        "\n",
        "class funciones_dicts:\n",
        "\n",
        "    def dict_to_upper(self, dict_input):\n",
        "        '''\n",
        "        Convierte los valores del diccionario a mayusculas.\n",
        "        '''\n",
        "        for k,v in dict_input.items():\n",
        "            if isinstance(v,str):\n",
        "                dict_input[k] = v.upper()\n",
        "        return dict_input\n",
        "\n",
        "\n",
        "import sys\n",
        "import os\n",
        "sys.path.insert(0, os.path.abspath('.'))\n",
        "\n",
        "import pytest\n",
        "from controllers.paquete_1 import funciones_matematicas as fm\n",
        "from controllers.paquete_2 import funciones_dicts as fd\n",
        "\n",
        "\n",
        "funciones = fm()\n",
        "funciones_dicts = fd()\n",
        "\n",
        "def test_sumador():  \n",
        "  respuesta_esperada = 60\n",
        "  respuesta = funciones.sumador(3,4,2,2,4,3,42)\n",
        "  assert respuesta == respuesta_esperada, \"Suma incorrecta.\" \n",
        "\n",
        "\n",
        "def test_dict_upper():\n",
        "  input_ = {'saludo':'hola', 'nombre':'juan', 'apellido':'perez'}\n",
        "  respuesta_esperada = {'saludo':'HOLA','nombre':'JUAN','apellido':'PEREZ'}\n",
        "  respuesta = funciones_dicts.dict_to_upper(input_)\n",
        "  assert respuesta == respuesta_esperada, \"Los resultados no concuerdan\" \n",
        "\n",
        "\n",
        "import sys\n",
        "import os\n",
        "sys.path.insert(0, os.path.abspath('.'))\n",
        "\n",
        "import pytest\n",
        "from mock import patch\n",
        "from controllers.paquete_1 import funciones_matematicas as fm\n",
        "\n",
        "\n",
        "funciones = fm()\n",
        "\n",
        "@patch.object(fm,'sumador')\n",
        "def test_sumador_2(mock_sumador):\n",
        "  respuesta = funciones.sumador(3,4)\n",
        "  mock_sumador.assert_called_with(3,4)\n",
        "\n",
        "\n",
        "@patch.object(fm,'is_int')\n",
        "def test_is_int(mock_is_int):\n",
        "  respuesta = funciones.sumador(3,4)\n",
        "  mock_is_int.mock_calls[0].assert_called_with(3)\n",
        "  #mock_is_int.mock_calls[1].assert_called_with(5)\n",
        "  assert mock_is_int.call_count, 3\n"
      ],
      "metadata": {
        "id": "a9Av4PVB-x0Y"
      },
      "execution_count": null,
      "outputs": []
    },
    {
      "cell_type": "code",
      "source": [],
      "metadata": {
        "id": "wXJWVsT_G9VO"
      },
      "execution_count": null,
      "outputs": []
    }
  ]
}