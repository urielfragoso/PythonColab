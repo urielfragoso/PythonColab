{
  "nbformat": 4,
  "nbformat_minor": 0,
  "metadata": {
    "colab": {
      "provenance": [],
      "collapsed_sections": [
        "oP9rp4mLrbaD"
      ],
      "include_colab_link": true
    },
    "kernelspec": {
      "name": "python3",
      "display_name": "Python 3"
    },
    "language_info": {
      "name": "python"
    }
  },
  "cells": [
    {
      "cell_type": "markdown",
      "metadata": {
        "id": "view-in-github",
        "colab_type": "text"
      },
      "source": [
        "<a href=\"https://colab.research.google.com/github/urielfragoso/PythonColab/blob/main/Tema_9_Proyecto_Final.ipynb\" target=\"_parent\"><img src=\"https://colab.research.google.com/assets/colab-badge.svg\" alt=\"Open In Colab\"/></a>"
      ]
    },
    {
      "cell_type": "markdown",
      "source": [
        "# Proyecto Final - Python Avanzado 2022\n",
        "### Notebook de accessos rápidos"
      ],
      "metadata": {
        "id": "ZgyjJqXtrPiN"
      }
    },
    {
      "cell_type": "markdown",
      "source": [
        "### Flask"
      ],
      "metadata": {
        "id": "oP9rp4mLrbaD"
      }
    },
    {
      "cell_type": "code",
      "execution_count": null,
      "metadata": {
        "id": "ZsYmptN2otwS"
      },
      "outputs": [],
      "source": []
    },
    {
      "cell_type": "markdown",
      "source": [
        "### Testing (pytest)"
      ],
      "metadata": {
        "id": "J4QmidMXrgf0"
      }
    },
    {
      "cell_type": "markdown",
      "source": [
        "### EC2"
      ],
      "metadata": {
        "id": "P4LC6SNZrdru"
      }
    },
    {
      "cell_type": "code",
      "source": [
        "'''\n",
        "A) Crear instancia EC2\n",
        "  Pre-requisitos: tener cuenta de AWS.\n",
        "  a. Imagen UBUNTU\n",
        "  b. 64 bits (x86)\n",
        "  c. t2.micro\n",
        "  d. crear par de claves\n",
        "\n",
        "  Configuracion de RED\n",
        "    - A la momento de la entrega del proyecto, el trafico por SSH debe estar permitido desde 0.0.0.0/0 (direccion IP)\n",
        "\n",
        "\n",
        "B) Como conectarse a la EC2 (desde Windows)\n",
        "  Pre-requisitos: tener una instancia de EC2.\n",
        "\n",
        "  a. (desde windows) descargar e instalar el software Putty segun su version de windows (https://www.chiark.greenend.org.uk/~sgtatham/putty/latest.html)\n",
        "  b. (desde EC2) Entrar a la instancia:\n",
        "      - generar/descargar las llaves .pem \n",
        "      - anotar la direccion IP -> ubuntu@ec2-xx-xx-xxx-xx.us-west-2.compute.amazonaws.com\n",
        "\n",
        "  c. (desde windows) abrir PuttyGen, convertir las llaves .pem a .ppk (https://www.clickittech.com/aws/connect-ec2-instance-using-ssh/#4)\n",
        "  d (desde windows) abrir Putty (abrir PuttyGen):\n",
        "      - Ir a Auth -> Credentialas -> cargar llave .ppk\n",
        "      - Ir a Session, indicar la direccion IP de la instancia -> darle click en conectar.\n",
        "\n",
        "  e. (desde windows) se abrira la terminal conectara a la instancia EC2. Conexión exitosa.\n",
        "\n",
        "\n",
        "C) Copiar ARCHIVOS de local (su computadora windows) a EC2 (https://docs.aws.amazon.com/AWSEC2/latest/UserGuide/putty.html#putty-scp)\n",
        "  * para copiar CARPETAS agregar la bandera: '-r', antes de la bandera '-i'\n",
        "    ARCHIVO \n",
        "      * Si se ubican en la carpeta del archivo .ppk, no tienen que indicar el path completo.\n",
        "\t  - $pscp -i C:\\path\\my-key-pair.ppk C:\\path\\Sample_file.txt instance-user-name@instance-public-dns-name:/home/instance-user-name/Sample_file.txt\n",
        "        estructura: pscp -i <direccion del .ppk> <direccion del archivo> <direccion de la instancia>:<directorio de la instancia donde vamos a guardar la copia> \n",
        "          direccion de la instancia es de formato: ubuntu@ec2-xx-xx-xxx-xx.us-west-2.compute.amazonaws.com\n",
        "\n",
        "    - $pscp -i ~/Desktop/y-key-pair.ppk ~/Desktop/file.zip  ubuntu@ec2-54-166-128-20.compute-1.amazonaws.com:/home/ubuntu\n",
        "\n",
        "\n",
        "D: INSTALAR HERRAMIENTAS\n",
        "  install pip\n",
        "    --> sudo apt install python3-pip\n",
        "  install pytest\n",
        "    --> sudo pip3 install pytest\n",
        "    --> sudo pip3 install mock\n",
        "  install docker\n",
        "    --> sudo snap install docker\n",
        "E: DAR PERMISO DE ACCESO A SEGURIDAD DE DOCKER\n",
        "  - entrar a instancia\n",
        "  - ir a seguridad --Grupos de seguridad\n",
        "  - reglas de entradas -> editar reglas\n",
        "  - nueva regla --> tipo. TCP poersonalizado -> puerto 8000 --> MI IP/32\n",
        "  - guardar regla\n",
        "\n",
        "\n",
        "F: INGRESR A LA API\n",
        "  a) detectar la IPV4 publica de la istancia,  agregar el puerto 8000 por default\n",
        "'''\n",
        "''"
      ],
      "metadata": {
        "colab": {
          "base_uri": "https://localhost:8080/",
          "height": 36
        },
        "id": "fw1Of4YMrn0g",
        "outputId": "b3086038-fb8c-4a09-d328-edf9987adb4e"
      },
      "execution_count": null,
      "outputs": [
        {
          "output_type": "execute_result",
          "data": {
            "text/plain": [
              "''"
            ],
            "application/vnd.google.colaboratory.intrinsic+json": {
              "type": "string"
            }
          },
          "metadata": {},
          "execution_count": 2
        }
      ]
    },
    {
      "cell_type": "code",
      "source": [],
      "metadata": {
        "id": "QVuJNOPArnpd"
      },
      "execution_count": null,
      "outputs": []
    },
    {
      "cell_type": "code",
      "source": [],
      "metadata": {
        "id": "-Qt7gSMZrnZc"
      },
      "execution_count": null,
      "outputs": []
    },
    {
      "cell_type": "markdown",
      "source": [
        "### Docker"
      ],
      "metadata": {
        "id": "KSnfkuZJrfMA"
      }
    },
    {
      "cell_type": "code",
      "source": [
        "! ssh -i \"llaves_ec2_prueba_2.pem\" ubuntu@ec2-34-217-30-247.us-west-2.compute.amazonaws.com\n",
        "\n",
        "'''\n",
        "LEVANTAR CONTENEDOR\n",
        "    ingresar a la carpeta donde esta el proyecto\n",
        "    sudo docker compose build\n",
        "    sudo docker compose up\n",
        "      * argumentos adicionales\n",
        "\n",
        "ENLISTAR\n",
        "  sudo docker ps\n",
        "\n",
        "APGAR LA APLICACION\n",
        "  sudo docker compose down\n",
        "  \n",
        "'''\n"
      ],
      "metadata": {
        "colab": {
          "base_uri": "https://localhost:8080/"
        },
        "id": "OPWRwFinozEr",
        "outputId": "3a44ce26-03b6-4946-f55a-24e4e32eb808"
      },
      "execution_count": null,
      "outputs": [
        {
          "output_type": "stream",
          "name": "stdout",
          "text": [
            "Host key verification failed.\r\n"
          ]
        }
      ]
    },
    {
      "cell_type": "code",
      "source": [],
      "metadata": {
        "id": "IzGOkKKmo5Kr"
      },
      "execution_count": null,
      "outputs": []
    }
  ]
}